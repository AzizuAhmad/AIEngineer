{
 "cells": [
  {
   "cell_type": "code",
   "execution_count": 1,
   "metadata": {},
   "outputs": [],
   "source": [
    "india = [\"mumbai\", \"banglore\", \"chennai\", \"delhi\"]\n",
    "pakistan = [\"lahore\",\"karachi\",\"islamabad\"]\n",
    "bangladesh = [\"dhaka\", \"khulna\", \"rangpur\"]"
   ]
  },
  {
   "cell_type": "code",
   "execution_count": 5,
   "metadata": {},
   "outputs": [
    {
     "name": "stdout",
     "output_type": "stream",
     "text": [
      "kamu dari bangladesh\n"
     ]
    }
   ],
   "source": [
    "country = input(\"masukan nama kota anda :\")\n",
    "\n",
    "if country in india :\n",
    "    print(\"kamu dari india\")\n",
    "elif country in pakistan:\n",
    "    print(\"kamu dari pakistan\")\n",
    "elif country in bangladesh:\n",
    "    print(\"kamu dari bangladesh\")\n",
    "else:\n",
    "    print(\"kamu bukan dari negara tersebut\")"
   ]
  },
  {
   "cell_type": "code",
   "execution_count": 7,
   "metadata": {},
   "outputs": [
    {
     "name": "stdout",
     "output_type": "stream",
     "text": [
      "kota 1 dan kota 2 ada di india\n"
     ]
    }
   ],
   "source": [
    "country1 = input(\"masukan nama kota 2 anda :\")\n",
    "country2 = input(\"masukan nama kota 1 anda :\")\n",
    "\n",
    "if country1 and country2 in india:\n",
    "    print(\"kota 1 dan kota 2 ada di india\")\n",
    "elif country1 and country2 in pakistan:\n",
    "    print(\"kota 1 dan kota 2 ada di paskistan\")\n",
    "elif country1 and country2 in bangladesh:\n",
    "    print(\"kota 1 dan kota 2 ada di bangladesh\")\n",
    "else:\n",
    "    print(\"kota 1 dan kota 2 tidak ada di india, pakistan, dan bangladesh\")"
   ]
  },
  {
   "cell_type": "code",
   "execution_count": 10,
   "metadata": {},
   "outputs": [
    {
     "name": "stdout",
     "output_type": "stream",
     "text": [
      "normal\n"
     ]
    }
   ],
   "source": [
    "sugar = int(input(\"masukan kadar gula anda : \"))\n",
    "if sugar >= 80 and sugar <=100:\n",
    "    print(\"anda dalam kategori gula rendah\")\n",
    "elif sugar > 100:\n",
    "    print(\"normal\")"
   ]
  }
 ],
 "metadata": {
  "kernelspec": {
   "display_name": "base",
   "language": "python",
   "name": "python3"
  },
  "language_info": {
   "codemirror_mode": {
    "name": "ipython",
    "version": 3
   },
   "file_extension": ".py",
   "mimetype": "text/x-python",
   "name": "python",
   "nbconvert_exporter": "python",
   "pygments_lexer": "ipython3",
   "version": "3.11.4"
  }
 },
 "nbformat": 4,
 "nbformat_minor": 2
}
