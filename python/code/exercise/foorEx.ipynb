{
 "cells": [
  {
   "cell_type": "code",
   "execution_count": 1,
   "metadata": {},
   "outputs": [],
   "source": [
    "n = int(input(\"masukan tinggi segitiga : \"))"
   ]
  },
  {
   "cell_type": "code",
   "execution_count": 2,
   "metadata": {},
   "outputs": [
    {
     "name": "stdout",
     "output_type": "stream",
     "text": [
      "***\n",
      "**\n",
      "*\n"
     ]
    }
   ],
   "source": [
    "i = 1 \n",
    "\n",
    "while n >= i:\n",
    "    j = 1\n",
    "    while j <= n:\n",
    "        print(\"*\",end=\"\")\n",
    "        j = j+1\n",
    "    print(\"\")\n",
    "    n =n-1"
   ]
  },
  {
   "cell_type": "code",
   "execution_count": 44,
   "metadata": {},
   "outputs": [
    {
     "name": "stdout",
     "output_type": "stream",
     "text": [
      "*\n",
      "**\n",
      "***\n",
      "****\n",
      "*****\n"
     ]
    }
   ],
   "source": [
    "n = int(input(\"masukan tinggi segitiga : \"))\n",
    "\n",
    "i = 1 \n",
    "string = \"\"\n",
    "\n",
    "\n",
    "while i <= n:\n",
    "    string = \"\"\n",
    "    j = 1\n",
    "    k=1\n",
    "    while k <= n-i:\n",
    "        print(\"\",end=\"\")\n",
    "        k = k +1\n",
    "    while k <= n:\n",
    "        print(\"*\",end=\"\")\n",
    "        k = k+1\n",
    "    print(\"\")\n",
    "    i =i+1"
   ]
  },
  {
   "cell_type": "code",
   "execution_count": 43,
   "metadata": {},
   "outputs": [
    {
     "name": "stdout",
     "output_type": "stream",
     "text": [
      "    *\n",
      "   **\n",
      "  ***\n",
      " ****\n",
      "*****\n"
     ]
    }
   ],
   "source": [
    "n = int(input(\"Masukkan tinggi segitiga: \"))\n",
    "\n",
    "i = 1 \n",
    "\n",
    "while i <= n:\n",
    "    j = 1\n",
    "    k = 1\n",
    "    # Print spaces\n",
    "    while k <= n - i:\n",
    "        print(\" \", end=\"\")\n",
    "        k = k + 1\n",
    "    # Print stars\n",
    "    while k <= n:\n",
    "        print(\"*\", end=\"\")\n",
    "        k = k + 1\n",
    "    print(\"\")\n",
    "    i = i + 1\n"
   ]
  },
  {
   "cell_type": "code",
   "execution_count": null,
   "metadata": {},
   "outputs": [],
   "source": [
    "n = int(input(\"Masukkan tinggi segitiga: \"))\n",
    "\n",
    "i = 1 \n",
    "\n",
    "while i <= n:\n",
    "    j = 1\n",
    "    k = 1\n",
    "    while k <= n - i:\n",
    "        print(\" \", end=\"\")\n",
    "        k = k + 1\n",
    "    while k <= n:\n",
    "        print(\"*\", end=\"\")\n",
    "        k = k + 1\n",
    "    print(\"\")\n",
    "    i = i + 1"
   ]
  },
  {
   "cell_type": "code",
   "execution_count": 45,
   "metadata": {},
   "outputs": [
    {
     "name": "stdout",
     "output_type": "stream",
     "text": [
      "*****\n",
      " ****\n",
      "  ***\n",
      "   **\n",
      "    *\n"
     ]
    }
   ],
   "source": [
    "n = int(input(\"Masukkan tinggi segitiga: \"))\n",
    "\n",
    "i = 0  # Start i from 0 instead of 1 to match the number of rows\n",
    "\n",
    "while i < n:\n",
    "    # Print spaces\n",
    "    j = 0\n",
    "    while j < i:\n",
    "        print(\" \", end=\"\")\n",
    "        j += 1\n",
    "    # Print stars\n",
    "    k = 0\n",
    "    while k < n - i:\n",
    "        print(\"*\", end=\"\")\n",
    "        k += 1\n",
    "    print(\"\")\n",
    "    i += 1\n"
   ]
  },
  {
   "cell_type": "code",
   "execution_count": 46,
   "metadata": {},
   "outputs": [
    {
     "name": "stdout",
     "output_type": "stream",
     "text": [
      "    *\n",
      "   ***\n",
      "  *****\n",
      " *******\n",
      "*********\n"
     ]
    }
   ],
   "source": [
    "n = int(input(\"Masukkan tinggi segitiga: \"))\n",
    "\n",
    "i = 1 \n",
    "\n",
    "while i <= n:\n",
    "    j = 1\n",
    "    k = 1\n",
    "    # Print spaces\n",
    "    while k <= n - i:\n",
    "        print(\" \", end=\"\")\n",
    "        k = k + 1\n",
    "    # Print stars\n",
    "    stars = 1\n",
    "    while stars <= (2 * i - 1):\n",
    "        print(\"*\", end=\"\")\n",
    "        stars += 1\n",
    "    print(\"\")\n",
    "    i += 1\n"
   ]
  },
  {
   "cell_type": "code",
   "execution_count": null,
   "metadata": {},
   "outputs": [],
   "source": []
  }
 ],
 "metadata": {
  "kernelspec": {
   "display_name": "base",
   "language": "python",
   "name": "python3"
  },
  "language_info": {
   "codemirror_mode": {
    "name": "ipython",
    "version": 3
   },
   "file_extension": ".py",
   "mimetype": "text/x-python",
   "name": "python",
   "nbconvert_exporter": "python",
   "pygments_lexer": "ipython3",
   "version": "3.11.4"
  }
 },
 "nbformat": 4,
 "nbformat_minor": 2
}
