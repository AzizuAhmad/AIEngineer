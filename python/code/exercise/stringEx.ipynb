{
 "cells": [
  {
   "cell_type": "code",
   "execution_count": 1,
   "metadata": {},
   "outputs": [
    {
     "name": "stdout",
     "output_type": "stream",
     "text": [
      "Address using + operator: 13 patli gali\n",
      "New Delhi\n",
      "India\n",
      "Address using f-string: 13 patli gali\n",
      "New Delhi\n",
      "India\n"
     ]
    }
   ],
   "source": [
    "street = \"13 patli gali\"\n",
    "city = \"New Delhi\"\n",
    "country = \"India\"\n",
    "address = street + '\\n' + city + '\\n' + country\n",
    "print(\"Address using + operator:\",address)\n",
    "address = f'{street}\\n{city}\\n{country}'\n",
    "print(\"Address using f-string:\",address)"
   ]
  },
  {
   "cell_type": "code",
   "execution_count": 2,
   "metadata": {},
   "outputs": [
    {
     "name": "stdout",
     "output_type": "stream",
     "text": [
      "revolves\n",
      "sun\n"
     ]
    }
   ],
   "source": [
    "s='Earth revolves around the sun'\n",
    "print(s[6:14])\n",
    "print(s[-3:])"
   ]
  },
  {
   "cell_type": "code",
   "execution_count": 3,
   "metadata": {},
   "outputs": [
    {
     "name": "stdout",
     "output_type": "stream",
     "text": [
      "I eat 5 veggies and 10 daily\n"
     ]
    }
   ],
   "source": [
    "num_fruits=10\n",
    "num_veggies=5\n",
    "print(f\"I eat {num_veggies} veggies and {num_fruits} daily\")"
   ]
  },
  {
   "cell_type": "code",
   "execution_count": 4,
   "metadata": {},
   "outputs": [
    {
     "name": "stdout",
     "output_type": "stream",
     "text": [
      "Using two line replace: maine 10 samosa khaye\n",
      "Using single line: maine 10 samosa khaye\n"
     ]
    }
   ],
   "source": [
    "s='maine 200 banana khaye'\n",
    "s=s.replace('banana','samosa')\n",
    "s=s.replace('200','10')\n",
    "print(\"Using two line replace:\",s)\n",
    "\n",
    "s='maine 200 banana khaye'\n",
    "s=s.replace('banana','samosa').replace('200','10')\n",
    "print(\"Using single line:\",s)"
   ]
  }
 ],
 "metadata": {
  "kernelspec": {
   "display_name": "base",
   "language": "python",
   "name": "python3"
  },
  "language_info": {
   "codemirror_mode": {
    "name": "ipython",
    "version": 3
   },
   "file_extension": ".py",
   "mimetype": "text/x-python",
   "name": "python",
   "nbconvert_exporter": "python",
   "pygments_lexer": "ipython3",
   "version": "3.11.4"
  }
 },
 "nbformat": 4,
 "nbformat_minor": 2
}
