{
 "cells": [
  {
   "cell_type": "code",
   "execution_count": 3,
   "metadata": {},
   "outputs": [
    {
     "name": "stdout",
     "output_type": "stream",
     "text": [
      "150\n",
      "7150\n",
      "False\n",
      "Expenses at the end of June: [2200, 2350, 2600, 2130, 2190, 1980]\n",
      "Expenses after 200$ return in April: [2200, 2350, 2600, 1930, 2190, 1980]\n"
     ]
    }
   ],
   "source": [
    "exp = [2200,2350,2600,2130,2190]\n",
    "\n",
    "print(exp[1] - exp[0])\n",
    "print(exp[0] + exp[1] + exp[2])\n",
    "print(2000 in exp)\n",
    "exp.append(1980)\n",
    "print(\"Expenses at the end of June:\",exp)\n",
    "exp[3] = exp[3] - 200\n",
    "print(\"Expenses after 200$ return in April:\",exp)\n"
   ]
  },
  {
   "cell_type": "code",
   "execution_count": 14,
   "metadata": {},
   "outputs": [
    {
     "name": "stdout",
     "output_type": "stream",
     "text": [
      "5\n",
      "['spider man', 'thor', 'hulk', 'iron man', 'captain america', 'Black Panther']\n",
      "['spider man', 'thor', 'hulk', 'Black Panther', 'iron man', 'captain america']\n",
      "['spider man', 'doctor strange', 'Black Panther', 'iron man', 'captain america']\n",
      "['Black Panther', 'captain america', 'doctor strange', 'iron man', 'spider man']\n"
     ]
    }
   ],
   "source": [
    "heros=['spider man','thor','hulk','iron man','captain america']\n",
    "\n",
    "print(len(heros))\n",
    "heros.append(\"Black Panther\")\n",
    "print(heros)\n",
    "\n",
    "heros.remove(\"Black Panther\")\n",
    "heros.insert(3,\"Black Panther\")\n",
    "print(heros)\n",
    "\n",
    "heros[1:3] = ['doctor strange']\n",
    "print(heros)\n",
    "\n",
    "heros.sort()\n",
    "print(heros)\n"
   ]
  }
 ],
 "metadata": {
  "kernelspec": {
   "display_name": "base",
   "language": "python",
   "name": "python3"
  },
  "language_info": {
   "codemirror_mode": {
    "name": "ipython",
    "version": 3
   },
   "file_extension": ".py",
   "mimetype": "text/x-python",
   "name": "python",
   "nbconvert_exporter": "python",
   "pygments_lexer": "ipython3",
   "version": "3.11.4"
  }
 },
 "nbformat": 4,
 "nbformat_minor": 2
}
