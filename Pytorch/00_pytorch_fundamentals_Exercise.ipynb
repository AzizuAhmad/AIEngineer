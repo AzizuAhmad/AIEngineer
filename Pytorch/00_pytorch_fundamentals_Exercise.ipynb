{
  "nbformat": 4,
  "nbformat_minor": 0,
  "metadata": {
    "colab": {
      "provenance": [],
      "gpuType": "T4"
    },
    "kernelspec": {
      "name": "python3",
      "display_name": "Python 3"
    },
    "language_info": {
      "name": "python"
    },
    "accelerator": "GPU"
  },
  "cells": [
    {
      "cell_type": "markdown",
      "source": [
        "1. Documentation reading - A big part of deep learning (and learning to code in general) is getting familiar with the documentation of a certain framework you're using. We'll be using the PyTorch documentation a lot throughout the rest of this course. So I'd recommend spending 10-minutes reading the following (it's okay if you don't get some things for now, the focus is not yet full understanding, it's awareness). See the documentation on torch.Tensor and for torch.cuda."
      ],
      "metadata": {
        "id": "UD6gvxX_4tqh"
      }
    },
    {
      "cell_type": "markdown",
      "source": [
        "2. Create a random tensor with shape (7, 7)."
      ],
      "metadata": {
        "id": "13eaIzWj44bW"
      }
    },
    {
      "cell_type": "code",
      "source": [
        "import torch\n",
        "\n",
        "tensor = torch.rand(7,7)\n",
        "tensor"
      ],
      "metadata": {
        "colab": {
          "base_uri": "https://localhost:8080/"
        },
        "id": "82jmLFa_450d",
        "outputId": "c0efbc92-aac0-4eea-d560-0563524a7bfe"
      },
      "execution_count": 1,
      "outputs": [
        {
          "output_type": "execute_result",
          "data": {
            "text/plain": [
              "tensor([[0.8124, 0.9182, 0.1185, 0.5884, 0.0866, 0.4909, 0.6199],\n",
              "        [0.9366, 0.8793, 0.8511, 0.8559, 0.5872, 0.8217, 0.1165],\n",
              "        [0.8355, 0.6105, 0.4409, 0.8094, 0.6513, 0.1502, 0.7971],\n",
              "        [0.8837, 0.1871, 0.4902, 0.6197, 0.1982, 0.8889, 0.0337],\n",
              "        [0.6763, 0.7552, 0.2093, 0.4316, 0.1312, 0.7129, 0.3435],\n",
              "        [0.1294, 0.7313, 0.5447, 0.4478, 0.8091, 0.9428, 0.1508],\n",
              "        [0.8518, 0.0476, 0.6320, 0.2393, 0.1528, 0.7371, 0.6849]])"
            ]
          },
          "metadata": {},
          "execution_count": 1
        }
      ]
    },
    {
      "cell_type": "markdown",
      "source": [
        "3. Perform a matrix multiplication on the tensor from 2 with another random tensor with shape (1, 7) (hint: you may have to transpose the second tensor)."
      ],
      "metadata": {
        "id": "JZX6QAS55E1o"
      }
    },
    {
      "cell_type": "code",
      "source": [
        "import torch\n",
        "tensorA = torch.rand(1,7)\n",
        "tensorB = torch.rand(1,7)\n",
        "\n",
        "torch.matmul(tensorA,tensorB.T)"
      ],
      "metadata": {
        "colab": {
          "base_uri": "https://localhost:8080/"
        },
        "id": "Q12MPYvM5ABk",
        "outputId": "ccbee21e-c2fd-44f8-a019-6f3e73d395e1"
      },
      "execution_count": 2,
      "outputs": [
        {
          "output_type": "execute_result",
          "data": {
            "text/plain": [
              "tensor([[2.4246]])"
            ]
          },
          "metadata": {},
          "execution_count": 2
        }
      ]
    },
    {
      "cell_type": "markdown",
      "source": [
        "4. Set the random seed to 0 and do exercises 2 & 3 over again."
      ],
      "metadata": {
        "id": "VTdgWzxY5Y8S"
      }
    },
    {
      "cell_type": "code",
      "source": [
        "import torch\n",
        "randomSeed = 42\n",
        "\n",
        "torch.manual_seed(randomSeed)\n",
        "tensor = torch.rand(1,7)\n",
        "\n",
        "torch.manual_seed(randomSeed)\n",
        "tensorA = torch.rand(1,7)\n",
        "torch.manual_seed(randomSeed)\n",
        "tensorB = torch.rand(1,7)\n",
        "\n",
        "x = torch.matmul(tensorA, tensorB.T)\n",
        "\n",
        "print(f\"tensor : {tensor}\")\n",
        "print(f\"tensorA : {tensorA}\")\n",
        "print(f\"tensorB : {tensorB}\")\n",
        "print(tensorA == tensorB)\n",
        "print(f\"tensorA * tensorB : {x}\")\n"
      ],
      "metadata": {
        "colab": {
          "base_uri": "https://localhost:8080/"
        },
        "id": "UbeY9wKm5WyR",
        "outputId": "26ae0a36-b1f4-4783-eb88-a877a1d27bd3"
      },
      "execution_count": 8,
      "outputs": [
        {
          "output_type": "stream",
          "name": "stdout",
          "text": [
            "tensor : tensor([[0.8823, 0.9150, 0.3829, 0.9593, 0.3904, 0.6009, 0.2566]])\n",
            "tensorA : tensor([[0.8823, 0.9150, 0.3829, 0.9593, 0.3904, 0.6009, 0.2566]])\n",
            "tensorB : tensor([[0.8823, 0.9150, 0.3829, 0.9593, 0.3904, 0.6009, 0.2566]])\n",
            "tensor([[True, True, True, True, True, True, True]])\n",
            "tensorA * tensorB : tensor([[3.2618]])\n"
          ]
        }
      ]
    },
    {
      "cell_type": "markdown",
      "source": [
        "5. Speaking of random seeds, we saw how to set it with torch.manual_seed() but is there a GPU equivalent? (hint: you'll need to look into the documentation for torch.cuda for this one). If there is, set the GPU random seed to 1234."
      ],
      "metadata": {
        "id": "y3RO7ze_6KfE"
      }
    },
    {
      "cell_type": "code",
      "source": [
        "# set random seed on GPU\n",
        "torch.cuda.manual_seed(1234)"
      ],
      "metadata": {
        "id": "WRforWvW59rj"
      },
      "execution_count": 9,
      "outputs": []
    },
    {
      "cell_type": "markdown",
      "source": [
        "6. Create two random tensors of shape (2, 3) and send them both to the GPU (you'll need access to a GPU for this). Set torch.manual_seed(1234) when creating the tensors (this doesn't have to be the GPU random seed)."
      ],
      "metadata": {
        "id": "MY68Od5M6t_X"
      }
    },
    {
      "cell_type": "code",
      "source": [
        "import torch\n",
        "torch.manual_seed(1234)\n",
        "\n",
        "# check gpu\n",
        "device = 'cuda' if torch.cuda.is_available() else 'cpu'\n",
        "print(f'device : {device}')\n",
        "# create tensor\n",
        "\n",
        "tensorA = torch.rand(2,3).to(device)\n",
        "tensorB = torch.rand(2,3).to(device)\n",
        "\n",
        "print(f'tensor A : {tensorA}')\n",
        "print(f\"tensor B : {tensorB}\")"
      ],
      "metadata": {
        "colab": {
          "base_uri": "https://localhost:8080/"
        },
        "id": "S-3bc0776rwx",
        "outputId": "bf78a899-1723-459a-c15e-1edcec77ef45"
      },
      "execution_count": 12,
      "outputs": [
        {
          "output_type": "stream",
          "name": "stdout",
          "text": [
            "device : cpu\n",
            "tensor A : tensor([[0.0290, 0.4019, 0.2598],\n",
            "        [0.3666, 0.0583, 0.7006]])\n",
            "tensor B : tensor([[0.0518, 0.4681, 0.6738],\n",
            "        [0.3315, 0.7837, 0.5631]])\n"
          ]
        }
      ]
    },
    {
      "cell_type": "markdown",
      "source": [
        "Prform a matrix multiplication on the tensors you created in 6 (again, you may have to adjust the shapes of one of the tensors)."
      ],
      "metadata": {
        "id": "9r3jhUsE7l7b"
      }
    },
    {
      "cell_type": "code",
      "source": [
        "import torch\n",
        "tensorA = torch.rand(2,3).to(device)\n",
        "tensorB = torch.rand(2,3).to(device)\n",
        "x = torch.matmul(tensorA, tensorB.T)\n",
        "\n",
        "print(f'tensor A : {tensorA}')\n",
        "print(f\"tensor B : {tensorB}\")\n",
        "print(f'x : {x}')"
      ],
      "metadata": {
        "colab": {
          "base_uri": "https://localhost:8080/"
        },
        "id": "PmaXorgs7Err",
        "outputId": "59441f4a-591b-4255-c4ac-4aa0294d585d"
      },
      "execution_count": 13,
      "outputs": [
        {
          "output_type": "stream",
          "name": "stdout",
          "text": [
            "tensor A : tensor([[0.7749, 0.8208, 0.2793],\n",
            "        [0.6817, 0.2837, 0.6567]])\n",
            "tensor B : tensor([[0.2388, 0.7313, 0.6012],\n",
            "        [0.3043, 0.2548, 0.6294]])\n",
            "x : tensor([[0.9531, 0.6207],\n",
            "        [0.7651, 0.6931]])\n"
          ]
        }
      ]
    },
    {
      "cell_type": "markdown",
      "source": [
        "8. Find the maximum and minimum values of the output of 7.\n"
      ],
      "metadata": {
        "id": "ZDO3NJCK8AkP"
      }
    },
    {
      "cell_type": "code",
      "source": [
        "print(torch.min(x))\n",
        "print(torch.max(x))"
      ],
      "metadata": {
        "colab": {
          "base_uri": "https://localhost:8080/"
        },
        "id": "B48G7R5W8CNN",
        "outputId": "a52dda86-5ec6-47a6-a3fa-4f8e6caa99f7"
      },
      "execution_count": 17,
      "outputs": [
        {
          "output_type": "stream",
          "name": "stdout",
          "text": [
            "tensor(0.6207)\n",
            "tensor(0.9531)\n"
          ]
        }
      ]
    },
    {
      "cell_type": "markdown",
      "source": [
        "9. Find the maximum and minimum index values of the output of 7.\n"
      ],
      "metadata": {
        "id": "wEB3eXmS7-0a"
      }
    },
    {
      "cell_type": "code",
      "source": [
        "print(x.argmin())\n",
        "print(x.argmax())"
      ],
      "metadata": {
        "colab": {
          "base_uri": "https://localhost:8080/"
        },
        "id": "7V9OnBNq7w7I",
        "outputId": "25e3c71b-e637-41d9-d032-355ee3ea8e45"
      },
      "execution_count": 18,
      "outputs": [
        {
          "output_type": "stream",
          "name": "stdout",
          "text": [
            "tensor(1)\n",
            "tensor(0)\n"
          ]
        }
      ]
    },
    {
      "cell_type": "markdown",
      "source": [
        "10. Make a random tensor with shape (1, 1, 1, 10) and then create a new tensor with all the 1 dimensions removed to be left with a tensor of shape (10). Set the seed to 7 when you create it and print out the first tensor and it's shape as well as the second tensor and it's shape."
      ],
      "metadata": {
        "id": "viQHW8ns8ISm"
      }
    },
    {
      "cell_type": "code",
      "source": [
        "import torch\n",
        "\n",
        "# Set seed\n",
        "torch.manual_seed(7)\n",
        "\n",
        "tensor = torch.rand(1,1,1,10)\n",
        "tensor2 = tensor.squeeze()\n",
        "tensor3 = tensor.unsqueeze(dim = 0)\n",
        "\n",
        "print(f'tensor : {tensor}')\n",
        "print(f'tensor2 : {tensor2}')\n",
        "print(f'tensor3 : {tensor3}')\n",
        "print(f'tensor : {tensor.shape}')\n",
        "print(f'tensor2 : {tensor2.shape}')\n",
        "print(f'tensor3 : {tensor3.shape}')"
      ],
      "metadata": {
        "colab": {
          "base_uri": "https://localhost:8080/"
        },
        "id": "ex8a05_E71Ja",
        "outputId": "bed7eb35-e1ba-428c-f658-08218371c291"
      },
      "execution_count": 28,
      "outputs": [
        {
          "output_type": "stream",
          "name": "stdout",
          "text": [
            "tensor : tensor([[[[0.5349, 0.1988, 0.6592, 0.6569, 0.2328, 0.4251, 0.2071, 0.6297,\n",
            "           0.3653, 0.8513]]]])\n",
            "tensor2 : tensor([0.5349, 0.1988, 0.6592, 0.6569, 0.2328, 0.4251, 0.2071, 0.6297, 0.3653,\n",
            "        0.8513])\n",
            "tensor3 : tensor([[[[[0.5349, 0.1988, 0.6592, 0.6569, 0.2328, 0.4251, 0.2071, 0.6297,\n",
            "            0.3653, 0.8513]]]]])\n",
            "tensor : torch.Size([1, 1, 1, 10])\n",
            "tensor2 : torch.Size([10])\n",
            "tensor3 : torch.Size([1, 1, 1, 1, 10])\n"
          ]
        }
      ]
    },
    {
      "cell_type": "code",
      "source": [],
      "metadata": {
        "id": "L-xR5bh98eoG"
      },
      "execution_count": null,
      "outputs": []
    }
  ]
}