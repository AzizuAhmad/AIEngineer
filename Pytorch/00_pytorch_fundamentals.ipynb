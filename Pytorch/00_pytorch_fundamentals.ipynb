{
  "nbformat": 4,
  "nbformat_minor": 0,
  "metadata": {
    "colab": {
      "provenance": [],
      "gpuType": "T4"
    },
    "kernelspec": {
      "name": "python3",
      "display_name": "Python 3"
    },
    "language_info": {
      "name": "python"
    },
    "accelerator": "GPU"
  },
  "cells": [
    {
      "cell_type": "code",
      "source": [
        "# 00 pytorch fundamentals"
      ],
      "metadata": {
        "id": "MaL-F4n7Sl0_"
      },
      "execution_count": null,
      "outputs": []
    },
    {
      "cell_type": "code",
      "source": [
        "import torch\n",
        "import pandas as pd\n",
        "import numpy as np\n",
        "import matplotlib.pyplot as plt\n",
        "print(torch.__version__)"
      ],
      "metadata": {
        "colab": {
          "base_uri": "https://localhost:8080/"
        },
        "id": "t8jXKlsMSgtz",
        "outputId": "86cea9c3-bed9-4836-9168-ee70cf4c745d"
      },
      "execution_count": null,
      "outputs": [
        {
          "output_type": "stream",
          "name": "stdout",
          "text": [
            "2.5.1+cu121\n"
          ]
        }
      ]
    },
    {
      "cell_type": "markdown",
      "source": [
        "## introduction to tensors\n",
        "### creating tensors\n",
        "\n"
      ],
      "metadata": {
        "id": "pdrxWtCpTX6M"
      }
    },
    {
      "cell_type": "code",
      "source": [
        "# scalar\n",
        "scalar = torch.tensor(10)\n",
        "scalar"
      ],
      "metadata": {
        "colab": {
          "base_uri": "https://localhost:8080/"
        },
        "id": "IBdnPzo4TZv9",
        "outputId": "182eee81-250a-4daa-898e-8e6473aea610"
      },
      "execution_count": null,
      "outputs": [
        {
          "output_type": "execute_result",
          "data": {
            "text/plain": [
              "tensor(10)"
            ]
          },
          "metadata": {},
          "execution_count": 3
        }
      ]
    },
    {
      "cell_type": "code",
      "source": [
        "scalar.ndim"
      ],
      "metadata": {
        "colab": {
          "base_uri": "https://localhost:8080/"
        },
        "id": "eni3MTgLUxlw",
        "outputId": "47284388-ecc7-4586-8ca5-3ec5006f3edc"
      },
      "execution_count": null,
      "outputs": [
        {
          "output_type": "execute_result",
          "data": {
            "text/plain": [
              "0"
            ]
          },
          "metadata": {},
          "execution_count": 4
        }
      ]
    },
    {
      "cell_type": "code",
      "source": [
        "# get tensor back as python int\n",
        "scalar.item()"
      ],
      "metadata": {
        "colab": {
          "base_uri": "https://localhost:8080/"
        },
        "id": "SXmQt_ibU2RN",
        "outputId": "5c90275d-d789-4c3b-82ed-3909492313f0"
      },
      "execution_count": null,
      "outputs": [
        {
          "output_type": "execute_result",
          "data": {
            "text/plain": [
              "10"
            ]
          },
          "metadata": {},
          "execution_count": 5
        }
      ]
    },
    {
      "cell_type": "code",
      "source": [
        "# vector\n",
        "vector = torch.tensor([7,7])\n",
        "vector"
      ],
      "metadata": {
        "colab": {
          "base_uri": "https://localhost:8080/"
        },
        "id": "vTazxMdEVEY8",
        "outputId": "ea0d0e53-ff61-4491-efae-7169108e1a20"
      },
      "execution_count": null,
      "outputs": [
        {
          "output_type": "execute_result",
          "data": {
            "text/plain": [
              "tensor([7, 7])"
            ]
          },
          "metadata": {},
          "execution_count": 6
        }
      ]
    },
    {
      "cell_type": "code",
      "source": [
        "vector.ndim"
      ],
      "metadata": {
        "colab": {
          "base_uri": "https://localhost:8080/"
        },
        "id": "FMguZf2GVIhN",
        "outputId": "8cba1174-103e-4273-aad1-25648fa5f447"
      },
      "execution_count": null,
      "outputs": [
        {
          "output_type": "execute_result",
          "data": {
            "text/plain": [
              "1"
            ]
          },
          "metadata": {},
          "execution_count": 7
        }
      ]
    },
    {
      "cell_type": "code",
      "source": [
        "vector.shape"
      ],
      "metadata": {
        "colab": {
          "base_uri": "https://localhost:8080/"
        },
        "id": "5rE4T6uKVTtW",
        "outputId": "d032985c-1a14-48af-aac2-ebd99d1a288c"
      },
      "execution_count": null,
      "outputs": [
        {
          "output_type": "execute_result",
          "data": {
            "text/plain": [
              "torch.Size([2])"
            ]
          },
          "metadata": {},
          "execution_count": 8
        }
      ]
    },
    {
      "cell_type": "code",
      "source": [
        "# Matrix\n",
        "matrix = torch.tensor([[7,8],\n",
        "                      [10,8]])\n",
        "matrix"
      ],
      "metadata": {
        "colab": {
          "base_uri": "https://localhost:8080/"
        },
        "id": "aQOjyRbbVYmP",
        "outputId": "200b6302-812c-4647-c1e6-2d54d00fb773"
      },
      "execution_count": null,
      "outputs": [
        {
          "output_type": "execute_result",
          "data": {
            "text/plain": [
              "tensor([[ 7,  8],\n",
              "        [10,  8]])"
            ]
          },
          "metadata": {},
          "execution_count": 9
        }
      ]
    },
    {
      "cell_type": "code",
      "source": [
        " matrix.ndim"
      ],
      "metadata": {
        "colab": {
          "base_uri": "https://localhost:8080/"
        },
        "id": "bFII345CVmVO",
        "outputId": "04542e7a-4691-4382-fe98-5b4e21a7f891"
      },
      "execution_count": null,
      "outputs": [
        {
          "output_type": "execute_result",
          "data": {
            "text/plain": [
              "2"
            ]
          },
          "metadata": {},
          "execution_count": 10
        }
      ]
    },
    {
      "cell_type": "code",
      "source": [
        "matrix.shape"
      ],
      "metadata": {
        "colab": {
          "base_uri": "https://localhost:8080/"
        },
        "id": "r359oukUVtaw",
        "outputId": "afc3a987-3422-4616-c0b5-548960bd5a23"
      },
      "execution_count": null,
      "outputs": [
        {
          "output_type": "execute_result",
          "data": {
            "text/plain": [
              "torch.Size([2, 2])"
            ]
          },
          "metadata": {},
          "execution_count": 11
        }
      ]
    },
    {
      "cell_type": "code",
      "source": [
        "matrix[1]"
      ],
      "metadata": {
        "colab": {
          "base_uri": "https://localhost:8080/"
        },
        "id": "5QSDSiStVwR1",
        "outputId": "bdc72675-ceeb-413e-a9ed-1350c1624c00"
      },
      "execution_count": null,
      "outputs": [
        {
          "output_type": "execute_result",
          "data": {
            "text/plain": [
              "tensor([10,  8])"
            ]
          },
          "metadata": {},
          "execution_count": 12
        }
      ]
    },
    {
      "cell_type": "code",
      "source": [
        "# Tensor\n",
        "tensor = torch.tensor([[[1,2],\n",
        "                        [3,4],\n",
        "                        [5,6]]])\n",
        "tensor"
      ],
      "metadata": {
        "colab": {
          "base_uri": "https://localhost:8080/"
        },
        "id": "CZwsJRekV335",
        "outputId": "388398e0-071f-4efb-ade7-7721869ad430"
      },
      "execution_count": null,
      "outputs": [
        {
          "output_type": "execute_result",
          "data": {
            "text/plain": [
              "tensor([[[1, 2],\n",
              "         [3, 4],\n",
              "         [5, 6]]])"
            ]
          },
          "metadata": {},
          "execution_count": 13
        }
      ]
    },
    {
      "cell_type": "code",
      "source": [
        "tensor.ndim"
      ],
      "metadata": {
        "colab": {
          "base_uri": "https://localhost:8080/"
        },
        "id": "2jLSkBmVWH3R",
        "outputId": "5a5b5f74-d899-46e0-f47d-f0781d4b84c6"
      },
      "execution_count": null,
      "outputs": [
        {
          "output_type": "execute_result",
          "data": {
            "text/plain": [
              "3"
            ]
          },
          "metadata": {},
          "execution_count": 14
        }
      ]
    },
    {
      "cell_type": "code",
      "source": [
        "tensor.shape"
      ],
      "metadata": {
        "colab": {
          "base_uri": "https://localhost:8080/"
        },
        "id": "QsUGs-GwWLud",
        "outputId": "98e28181-a498-4a0d-bcbb-ddad68165707"
      },
      "execution_count": null,
      "outputs": [
        {
          "output_type": "execute_result",
          "data": {
            "text/plain": [
              "torch.Size([1, 3, 2])"
            ]
          },
          "metadata": {},
          "execution_count": 15
        }
      ]
    },
    {
      "cell_type": "code",
      "source": [
        "tensor[0,0]"
      ],
      "metadata": {
        "colab": {
          "base_uri": "https://localhost:8080/"
        },
        "id": "oMQcFfq_WNR6",
        "outputId": "af061a4c-d722-48f0-e776-190dbe81ede6"
      },
      "execution_count": null,
      "outputs": [
        {
          "output_type": "execute_result",
          "data": {
            "text/plain": [
              "tensor([1, 2])"
            ]
          },
          "metadata": {},
          "execution_count": 16
        }
      ]
    },
    {
      "cell_type": "markdown",
      "source": [
        "### Random Tensor"
      ],
      "metadata": {
        "id": "Am66byycXSUK"
      }
    },
    {
      "cell_type": "code",
      "source": [
        "#  create a random tensor of shape (1,3,4)\n",
        "# 1 -> banyak variasi data tensor\n",
        "# 3 -> banyak baris data tensor\n",
        "# 4 -> banyak kolom data tensor\n",
        "random_tensor = torch.rand(1,3,4)\n",
        "random_tensor\n"
      ],
      "metadata": {
        "colab": {
          "base_uri": "https://localhost:8080/"
        },
        "id": "9aWi2Gf9Xaxx",
        "outputId": "22f80c75-1146-4d18-8674-85a1091a36bc"
      },
      "execution_count": null,
      "outputs": [
        {
          "output_type": "execute_result",
          "data": {
            "text/plain": [
              "tensor([[[0.8287, 0.7015, 0.0221, 0.3056],\n",
              "         [0.5201, 0.0397, 0.4514, 0.2483],\n",
              "         [0.5002, 0.9764, 0.1364, 0.3120]]])"
            ]
          },
          "metadata": {},
          "execution_count": 17
        }
      ]
    },
    {
      "cell_type": "code",
      "source": [
        "random_tensor.ndim"
      ],
      "metadata": {
        "colab": {
          "base_uri": "https://localhost:8080/"
        },
        "id": "9ZEAifJGXzwv",
        "outputId": "f1eed99b-e27d-4d18-d2c1-3fb81c00a05c"
      },
      "execution_count": null,
      "outputs": [
        {
          "output_type": "execute_result",
          "data": {
            "text/plain": [
              "3"
            ]
          },
          "metadata": {},
          "execution_count": 18
        }
      ]
    },
    {
      "cell_type": "code",
      "source": [
        "random_tensor.shape"
      ],
      "metadata": {
        "colab": {
          "base_uri": "https://localhost:8080/"
        },
        "id": "R7AApdg3YAKR",
        "outputId": "3220af09-ddfc-45db-cdf6-76f3bfaec65a"
      },
      "execution_count": null,
      "outputs": [
        {
          "output_type": "execute_result",
          "data": {
            "text/plain": [
              "torch.Size([1, 3, 4])"
            ]
          },
          "metadata": {},
          "execution_count": 19
        }
      ]
    },
    {
      "cell_type": "code",
      "source": [
        "# create a random tensor with similar shape to an image tensor\n",
        "random_image_size_tensor = torch.rand(size = (224,224,3)) # height, width, color channel\n",
        "random_image_size_tensor.shape, random_image_size_tensor.ndim"
      ],
      "metadata": {
        "colab": {
          "base_uri": "https://localhost:8080/"
        },
        "id": "r6dg8bTxYDiO",
        "outputId": "c30c4c17-9e2c-4e1d-f833-55d96d4755d1"
      },
      "execution_count": null,
      "outputs": [
        {
          "output_type": "execute_result",
          "data": {
            "text/plain": [
              "(torch.Size([224, 224, 3]), 3)"
            ]
          },
          "metadata": {},
          "execution_count": 20
        }
      ]
    },
    {
      "cell_type": "code",
      "source": [
        "random_image_size_tensor"
      ],
      "metadata": {
        "colab": {
          "base_uri": "https://localhost:8080/"
        },
        "id": "Ra_L0db6Ys01",
        "outputId": "eae477b4-df81-447e-bf46-def9ded8bbab"
      },
      "execution_count": null,
      "outputs": [
        {
          "output_type": "execute_result",
          "data": {
            "text/plain": [
              "tensor([[[0.0891, 0.4502, 0.3064],\n",
              "         [0.0620, 0.9077, 0.7080],\n",
              "         [0.3217, 0.0715, 0.2339],\n",
              "         ...,\n",
              "         [0.5714, 0.7160, 0.1898],\n",
              "         [0.9963, 0.5257, 0.4822],\n",
              "         [0.7696, 0.0617, 0.1153]],\n",
              "\n",
              "        [[0.2524, 0.2166, 0.6433],\n",
              "         [0.6780, 0.0659, 0.9497],\n",
              "         [0.5749, 0.0071, 0.2936],\n",
              "         ...,\n",
              "         [0.9053, 0.2310, 0.1326],\n",
              "         [0.4780, 0.9247, 0.2963],\n",
              "         [0.2825, 0.6731, 0.1799]],\n",
              "\n",
              "        [[0.2468, 0.1762, 0.6081],\n",
              "         [0.4763, 0.2537, 0.7184],\n",
              "         [0.9465, 0.6566, 0.8354],\n",
              "         ...,\n",
              "         [0.6765, 0.8833, 0.8615],\n",
              "         [0.6238, 0.9520, 0.3200],\n",
              "         [0.1124, 0.1716, 0.8606]],\n",
              "\n",
              "        ...,\n",
              "\n",
              "        [[0.2637, 0.6820, 0.6414],\n",
              "         [0.1177, 0.7218, 0.2959],\n",
              "         [0.6575, 0.8869, 0.8649],\n",
              "         ...,\n",
              "         [0.4809, 0.7611, 0.5687],\n",
              "         [0.7137, 0.0975, 0.6487],\n",
              "         [0.7921, 0.8722, 0.8454]],\n",
              "\n",
              "        [[0.2077, 0.8449, 0.6088],\n",
              "         [0.8726, 0.2723, 0.6615],\n",
              "         [0.1552, 0.3892, 0.9384],\n",
              "         ...,\n",
              "         [0.6678, 0.3111, 0.0614],\n",
              "         [0.1388, 0.4316, 0.3447],\n",
              "         [0.9941, 0.9360, 0.7762]],\n",
              "\n",
              "        [[0.0121, 0.8660, 0.3028],\n",
              "         [0.8947, 0.7660, 0.6309],\n",
              "         [0.6548, 0.6661, 0.6973],\n",
              "         ...,\n",
              "         [0.4273, 0.6230, 0.8108],\n",
              "         [0.3276, 0.7115, 0.1186],\n",
              "         [0.2455, 0.5978, 0.7374]]])"
            ]
          },
          "metadata": {},
          "execution_count": 21
        }
      ]
    },
    {
      "cell_type": "markdown",
      "source": [
        "### Zero and Ones"
      ],
      "metadata": {
        "id": "JMAyk12OY0tL"
      }
    },
    {
      "cell_type": "code",
      "source": [
        "# create a tensor of all zeros\n",
        "zeros = torch.zeros(size=(3,4))\n",
        "zeros"
      ],
      "metadata": {
        "colab": {
          "base_uri": "https://localhost:8080/"
        },
        "id": "Ma_CGSvDamqG",
        "outputId": "c94cb8be-1f28-42d1-9e46-841144a45c96"
      },
      "execution_count": null,
      "outputs": [
        {
          "output_type": "execute_result",
          "data": {
            "text/plain": [
              "tensor([[0., 0., 0., 0.],\n",
              "        [0., 0., 0., 0.],\n",
              "        [0., 0., 0., 0.]])"
            ]
          },
          "metadata": {},
          "execution_count": 22
        }
      ]
    },
    {
      "cell_type": "code",
      "source": [
        "# create a tensor of all ones\n",
        "ones = torch.ones(size=(3,4))\n",
        "ones"
      ],
      "metadata": {
        "colab": {
          "base_uri": "https://localhost:8080/"
        },
        "id": "taBu_1-watz3",
        "outputId": "07b2d868-bdfd-40ba-8207-b9f6858830f4"
      },
      "execution_count": null,
      "outputs": [
        {
          "output_type": "execute_result",
          "data": {
            "text/plain": [
              "tensor([[1., 1., 1., 1.],\n",
              "        [1., 1., 1., 1.],\n",
              "        [1., 1., 1., 1.]])"
            ]
          },
          "metadata": {},
          "execution_count": 23
        }
      ]
    },
    {
      "cell_type": "code",
      "source": [
        "zeros.dtype"
      ],
      "metadata": {
        "colab": {
          "base_uri": "https://localhost:8080/"
        },
        "id": "zv1tMso1a3xd",
        "outputId": "fcb76b4d-07f8-4c4e-a657-a1bc29dca57b"
      },
      "execution_count": null,
      "outputs": [
        {
          "output_type": "execute_result",
          "data": {
            "text/plain": [
              "torch.float32"
            ]
          },
          "metadata": {},
          "execution_count": 24
        }
      ]
    },
    {
      "cell_type": "markdown",
      "source": [
        "### Creatin a range  of tensors and tensors like"
      ],
      "metadata": {
        "id": "ZRdR-IsjbLkO"
      }
    },
    {
      "cell_type": "code",
      "source": [
        "# use tensor range\n",
        "one_to_tweleve = torch.arange(1,20,3)\n",
        "one_to_tweleve"
      ],
      "metadata": {
        "colab": {
          "base_uri": "https://localhost:8080/"
        },
        "id": "SZygdCata7DE",
        "outputId": "7eb8c4ce-f94c-4e62-8d32-5b78ba434aa2"
      },
      "execution_count": null,
      "outputs": [
        {
          "output_type": "execute_result",
          "data": {
            "text/plain": [
              "tensor([ 1,  4,  7, 10, 13, 16, 19])"
            ]
          },
          "metadata": {},
          "execution_count": 25
        }
      ]
    },
    {
      "cell_type": "code",
      "source": [
        "# creating tensor like\n",
        "one_to_ten = torch.arange(1,11)\n",
        "print(one_to_ten)\n",
        "ten_zeros = torch.zeros_like(input= one_to_ten)\n",
        "print(ten_zeros)"
      ],
      "metadata": {
        "colab": {
          "base_uri": "https://localhost:8080/"
        },
        "id": "3TCM5YyjbRdl",
        "outputId": "d37ad5ad-db91-4497-a982-1ec36c02700a"
      },
      "execution_count": null,
      "outputs": [
        {
          "output_type": "stream",
          "name": "stdout",
          "text": [
            "tensor([ 1,  2,  3,  4,  5,  6,  7,  8,  9, 10])\n",
            "tensor([0, 0, 0, 0, 0, 0, 0, 0, 0, 0])\n"
          ]
        }
      ]
    },
    {
      "cell_type": "markdown",
      "source": [
        "### Tensor data type\n",
        "\n",
        "**Note:** Tensor datatype is one of the 3 big error youll run into with pytorch and deep learning\n",
        "1. tensors not right datatype\n",
        "2. tensors not right shape\n",
        "3. tensors not on the right device\n"
      ],
      "metadata": {
        "id": "NvQ6lwe8ciuJ"
      }
    },
    {
      "cell_type": "code",
      "source": [
        "# float32 tensor\n",
        "\n",
        "float32_tensor = torch.tensor([3.0,5.0,4.0],dtype=None, # what datatype is the tensor\n",
        "                              device = \"cuda\", # what device is your tensor on\n",
        "                              requires_grad = False) # wheter or no to track gradients with this tensors operations\n",
        "float32_tensor"
      ],
      "metadata": {
        "colab": {
          "base_uri": "https://localhost:8080/"
        },
        "id": "XYPMP6uGcXSs",
        "outputId": "cd735ea0-ba76-4936-8046-8d7237c1ca22"
      },
      "execution_count": null,
      "outputs": [
        {
          "output_type": "execute_result",
          "data": {
            "text/plain": [
              "tensor([3., 5., 4.], device='cuda:0')"
            ]
          },
          "metadata": {},
          "execution_count": 27
        }
      ]
    },
    {
      "cell_type": "code",
      "source": [
        "float32_tensor.dtype"
      ],
      "metadata": {
        "colab": {
          "base_uri": "https://localhost:8080/"
        },
        "id": "V2inKc5ncrPt",
        "outputId": "d60f8098-6c11-4163-dadb-2b06de3e7738"
      },
      "execution_count": null,
      "outputs": [
        {
          "output_type": "execute_result",
          "data": {
            "text/plain": [
              "torch.float32"
            ]
          },
          "metadata": {},
          "execution_count": 28
        }
      ]
    },
    {
      "cell_type": "code",
      "source": [
        "float16_tensors = float32_tensor.type(torch.float16)\n",
        "float16_tensors"
      ],
      "metadata": {
        "colab": {
          "base_uri": "https://localhost:8080/"
        },
        "id": "V27rr1Necy6Y",
        "outputId": "8144e107-3ddb-42a8-9803-97154a28c795"
      },
      "execution_count": null,
      "outputs": [
        {
          "output_type": "execute_result",
          "data": {
            "text/plain": [
              "tensor([3., 5., 4.], device='cuda:0', dtype=torch.float16)"
            ]
          },
          "metadata": {},
          "execution_count": 29
        }
      ]
    },
    {
      "cell_type": "code",
      "source": [
        "temp = float16_tensors * float32_tensor\n",
        "temp"
      ],
      "metadata": {
        "colab": {
          "base_uri": "https://localhost:8080/"
        },
        "id": "_D9kgaeGeYbd",
        "outputId": "36fbc2b5-af50-4ffd-d31f-05733dbd95ee"
      },
      "execution_count": null,
      "outputs": [
        {
          "output_type": "execute_result",
          "data": {
            "text/plain": [
              "tensor([ 9., 25., 16.], device='cuda:0')"
            ]
          },
          "metadata": {},
          "execution_count": 30
        }
      ]
    },
    {
      "cell_type": "code",
      "source": [
        "temp.dtype"
      ],
      "metadata": {
        "colab": {
          "base_uri": "https://localhost:8080/"
        },
        "id": "cC3l0kSqeidm",
        "outputId": "76698fd9-ba9a-4e4e-c665-71af58c02fa5"
      },
      "execution_count": null,
      "outputs": [
        {
          "output_type": "execute_result",
          "data": {
            "text/plain": [
              "torch.float32"
            ]
          },
          "metadata": {},
          "execution_count": 31
        }
      ]
    },
    {
      "cell_type": "code",
      "source": [
        "int32_tensor = torch.tensor([3,4,6], dtype= torch.long,\n",
        "                            device = 'cuda')\n",
        "int32_tensor"
      ],
      "metadata": {
        "colab": {
          "base_uri": "https://localhost:8080/"
        },
        "id": "fbZiDOZ3ekoB",
        "outputId": "f0e638f3-7768-41a6-9efc-4ef18cc71117"
      },
      "execution_count": null,
      "outputs": [
        {
          "output_type": "execute_result",
          "data": {
            "text/plain": [
              "tensor([3, 4, 6], device='cuda:0')"
            ]
          },
          "metadata": {},
          "execution_count": 32
        }
      ]
    },
    {
      "cell_type": "code",
      "source": [
        "float32_tensor * int32_tensor"
      ],
      "metadata": {
        "colab": {
          "base_uri": "https://localhost:8080/"
        },
        "id": "KMj7f7s8q0DP",
        "outputId": "4e01d3a1-441d-4f55-a74b-43d3ecb6d4e5"
      },
      "execution_count": null,
      "outputs": [
        {
          "output_type": "execute_result",
          "data": {
            "text/plain": [
              "tensor([ 9., 20., 24.], device='cuda:0')"
            ]
          },
          "metadata": {},
          "execution_count": 33
        }
      ]
    },
    {
      "cell_type": "markdown",
      "source": [
        "### getting information from tensors\n",
        "\n",
        "1. tensors not right datatype - to do get datatype from a tensor, can use 'tensor.dtype'\n",
        "2. tensors not right shape - to get shape from a tensor, can use 'tensor.shape'\n",
        "3. tensors not on the right device - to get device form a tensor, can use 'tensor.device'"
      ],
      "metadata": {
        "id": "Ru1YTaGtrZSZ"
      }
    },
    {
      "cell_type": "code",
      "source": [
        "# create a tensor\n",
        "\n",
        "someTensor = torch.rand(3,4)\n",
        "someTensor"
      ],
      "metadata": {
        "colab": {
          "base_uri": "https://localhost:8080/"
        },
        "id": "P17oT-iXq8W_",
        "outputId": "317f531d-9189-4280-e20a-15c2634507f0"
      },
      "execution_count": null,
      "outputs": [
        {
          "output_type": "execute_result",
          "data": {
            "text/plain": [
              "tensor([[0.1436, 0.5828, 0.4269, 0.3629],\n",
              "        [0.6778, 0.1203, 0.2207, 0.6426],\n",
              "        [0.2766, 0.5187, 0.5204, 0.6771]])"
            ]
          },
          "metadata": {},
          "execution_count": 34
        }
      ]
    },
    {
      "cell_type": "code",
      "source": [
        "# details about tensor\n",
        "print(someTensor)\n",
        "print(f\"Datatype of tensor : {someTensor.dtype}\")\n",
        "print(f\"Shape of tensor : {someTensor.shape}\")\n",
        "print(f\"Device of tensor : {someTensor.device}\")"
      ],
      "metadata": {
        "colab": {
          "base_uri": "https://localhost:8080/"
        },
        "id": "BKFYQG23r2jv",
        "outputId": "154a1694-127f-4059-99dc-d193d32f1cdb"
      },
      "execution_count": null,
      "outputs": [
        {
          "output_type": "stream",
          "name": "stdout",
          "text": [
            "tensor([[0.1436, 0.5828, 0.4269, 0.3629],\n",
            "        [0.6778, 0.1203, 0.2207, 0.6426],\n",
            "        [0.2766, 0.5187, 0.5204, 0.6771]])\n",
            "Datatype of tensor : torch.float32\n",
            "Shape of tensor : torch.Size([3, 4])\n",
            "Device of tensor : cpu\n"
          ]
        }
      ]
    },
    {
      "cell_type": "markdown",
      "source": [
        "### Manipulating Tensor\n",
        "\n",
        "Tensor operations include :\n",
        "* Addition\n",
        "* Subtraction\n",
        "* Multiplication\n",
        "* Division\n",
        "* Matrix Multiplication"
      ],
      "metadata": {
        "id": "xiYL2HlPsZUi"
      }
    },
    {
      "cell_type": "code",
      "source": [
        "# creating a tensor and add 10 to it\n",
        "tensor = torch.tensor([1,2,3])\n",
        "tensor + 10"
      ],
      "metadata": {
        "colab": {
          "base_uri": "https://localhost:8080/"
        },
        "id": "2Jh4seJ3sC02",
        "outputId": "845e410d-af61-40a3-f7c4-245e5414112b"
      },
      "execution_count": null,
      "outputs": [
        {
          "output_type": "execute_result",
          "data": {
            "text/plain": [
              "tensor([11, 12, 13])"
            ]
          },
          "metadata": {},
          "execution_count": 36
        }
      ]
    },
    {
      "cell_type": "code",
      "source": [
        "# multiply tensor by 10\n",
        "tensor = tensor * 10\n",
        "tensor"
      ],
      "metadata": {
        "colab": {
          "base_uri": "https://localhost:8080/"
        },
        "id": "jMtAesjNs2E9",
        "outputId": "1442d248-4467-4502-df5a-5e0566986176"
      },
      "execution_count": null,
      "outputs": [
        {
          "output_type": "execute_result",
          "data": {
            "text/plain": [
              "tensor([10, 20, 30])"
            ]
          },
          "metadata": {},
          "execution_count": 37
        }
      ]
    },
    {
      "cell_type": "code",
      "source": [
        "# subtract\n",
        "tensor - 10"
      ],
      "metadata": {
        "colab": {
          "base_uri": "https://localhost:8080/"
        },
        "id": "9uiJ9EEls59V",
        "outputId": "7a1d05ab-dd10-4324-cca0-f091db5f5316"
      },
      "execution_count": null,
      "outputs": [
        {
          "output_type": "execute_result",
          "data": {
            "text/plain": [
              "tensor([ 0, 10, 20])"
            ]
          },
          "metadata": {},
          "execution_count": 38
        }
      ]
    },
    {
      "cell_type": "code",
      "source": [
        "# Try out pytorch in-built function\n",
        "torch.mul(tensor,10)"
      ],
      "metadata": {
        "colab": {
          "base_uri": "https://localhost:8080/"
        },
        "id": "7vZopw1XtOcM",
        "outputId": "dc27ff96-4a24-4a08-aed1-d9926b4253f9"
      },
      "execution_count": null,
      "outputs": [
        {
          "output_type": "execute_result",
          "data": {
            "text/plain": [
              "tensor([100, 200, 300])"
            ]
          },
          "metadata": {},
          "execution_count": 39
        }
      ]
    },
    {
      "cell_type": "code",
      "source": [
        "torch.add(tensor, 10)"
      ],
      "metadata": {
        "colab": {
          "base_uri": "https://localhost:8080/"
        },
        "id": "NxXqwg2ttWp1",
        "outputId": "a430af42-d67f-497f-ffca-e25ffeb75363"
      },
      "execution_count": null,
      "outputs": [
        {
          "output_type": "execute_result",
          "data": {
            "text/plain": [
              "tensor([20, 30, 40])"
            ]
          },
          "metadata": {},
          "execution_count": 40
        }
      ]
    },
    {
      "cell_type": "markdown",
      "source": [
        "### Matrix multiplication\n",
        "\n",
        "two main ways of performing multiplication in neural networks and deep learning\n",
        "\n",
        "1. element-wise multiplication\n",
        "2. matrix multiplication\n",
        "\n",
        "there are two main rules that performing matrix multiplication needs to satisfy\n",
        "\n",
        "1. the inner dimension must match:\n",
        "* (3,2) @ (3,2) wont work\n",
        "* (2,3) @ (3,2) will work\n",
        "* (3,2) @ (2,3) will work\n",
        "\n",
        "2. the result matrix has the shape of the outer dimension\n",
        "* (3,2) @ (2,3) -> (3,3)\n",
        "* (2,3) @ (3,2) -> (2,2)"
      ],
      "metadata": {
        "id": "lXAtrBXJuFKe"
      }
    },
    {
      "cell_type": "code",
      "source": [
        "# element wise multlipication\n",
        "print(f\"{tensor} * {tensor} = {tensor * tensor}\")"
      ],
      "metadata": {
        "colab": {
          "base_uri": "https://localhost:8080/"
        },
        "id": "4UChkGyBuHSg",
        "outputId": "fea06533-d339-4e12-c42e-ac3eb6df1abb"
      },
      "execution_count": null,
      "outputs": [
        {
          "output_type": "stream",
          "name": "stdout",
          "text": [
            "tensor([10, 20, 30]) * tensor([10, 20, 30]) = tensor([100, 400, 900])\n"
          ]
        }
      ]
    },
    {
      "cell_type": "code",
      "source": [
        "# Matrix multiplication\n",
        "\n",
        "torch.matmul(tensor, tensor)"
      ],
      "metadata": {
        "colab": {
          "base_uri": "https://localhost:8080/"
        },
        "id": "C0K1po_guPwb",
        "outputId": "aa15844e-6229-4e4f-a4fd-48714a1685b2"
      },
      "execution_count": null,
      "outputs": [
        {
          "output_type": "execute_result",
          "data": {
            "text/plain": [
              "tensor(1400)"
            ]
          },
          "metadata": {},
          "execution_count": 42
        }
      ]
    },
    {
      "cell_type": "code",
      "source": [
        "# # Matrix multiplication by hand\n",
        "10 * 10 + 20 * 20 + 30 * 30"
      ],
      "metadata": {
        "colab": {
          "base_uri": "https://localhost:8080/"
        },
        "id": "PvCDrkRRulLt",
        "outputId": "01cd6cc3-7233-441b-ed93-949fdd19c516"
      },
      "execution_count": null,
      "outputs": [
        {
          "output_type": "execute_result",
          "data": {
            "text/plain": [
              "1400"
            ]
          },
          "metadata": {},
          "execution_count": 43
        }
      ]
    },
    {
      "cell_type": "code",
      "source": [
        "%%time\n",
        "\n",
        "value  = 0\n",
        "for i in range(len(tensor)):\n",
        "  value += tensor[i] * tensor[i]\n",
        "print(value)"
      ],
      "metadata": {
        "colab": {
          "base_uri": "https://localhost:8080/"
        },
        "id": "PScIWNaMvCB7",
        "outputId": "68d22caf-10e7-4538-d4ee-9a936c2eed70"
      },
      "execution_count": null,
      "outputs": [
        {
          "output_type": "stream",
          "name": "stdout",
          "text": [
            "tensor(1400)\n",
            "CPU times: user 3.74 ms, sys: 0 ns, total: 3.74 ms\n",
            "Wall time: 3.48 ms\n"
          ]
        }
      ]
    },
    {
      "cell_type": "code",
      "source": [
        "%%time\n",
        "\n",
        "torch.matmul(tensor, tensor)"
      ],
      "metadata": {
        "colab": {
          "base_uri": "https://localhost:8080/"
        },
        "id": "m3716QaLvfex",
        "outputId": "5c547f6e-4659-4da2-edda-2142c340b54d"
      },
      "execution_count": null,
      "outputs": [
        {
          "output_type": "stream",
          "name": "stdout",
          "text": [
            "CPU times: user 29 µs, sys: 6 µs, total: 35 µs\n",
            "Wall time: 37.9 µs\n"
          ]
        },
        {
          "output_type": "execute_result",
          "data": {
            "text/plain": [
              "tensor(1400)"
            ]
          },
          "metadata": {},
          "execution_count": 45
        }
      ]
    },
    {
      "cell_type": "markdown",
      "source": [
        "### one of the most common error in deep  learning: shape errors"
      ],
      "metadata": {
        "id": "CWRSOTvSyxcz"
      }
    },
    {
      "cell_type": "code",
      "source": [
        "# shape for matrix multiplication\n",
        "\n",
        "tensorA = torch.tensor([[1,2],\n",
        "                        [3,4],\n",
        "                        [5,6]])\n",
        "\n",
        "tensorB = torch.tensor([[7,8],\n",
        "                        [9,10],\n",
        "                        [11,12]])\n",
        "\n",
        "torch.matmul(tensorA * tensorB)"
      ],
      "metadata": {
        "colab": {
          "base_uri": "https://localhost:8080/",
          "height": 176
        },
        "id": "9-wGzM6gvlj5",
        "outputId": "87571207-0bb8-4f07-9afd-581b6dca96e2"
      },
      "execution_count": null,
      "outputs": [
        {
          "output_type": "error",
          "ename": "TypeError",
          "evalue": "matmul() missing 1 required positional arguments: \"other\"",
          "traceback": [
            "\u001b[0;31m---------------------------------------------------------------------------\u001b[0m",
            "\u001b[0;31mTypeError\u001b[0m                                 Traceback (most recent call last)",
            "\u001b[0;32m<ipython-input-46-32cd367ffdec>\u001b[0m in \u001b[0;36m<cell line: 0>\u001b[0;34m()\u001b[0m\n\u001b[1;32m      9\u001b[0m                         [11,12]])\n\u001b[1;32m     10\u001b[0m \u001b[0;34m\u001b[0m\u001b[0m\n\u001b[0;32m---> 11\u001b[0;31m \u001b[0mtorch\u001b[0m\u001b[0;34m.\u001b[0m\u001b[0mmatmul\u001b[0m\u001b[0;34m(\u001b[0m\u001b[0mtensorA\u001b[0m \u001b[0;34m*\u001b[0m \u001b[0mtensorB\u001b[0m\u001b[0;34m)\u001b[0m\u001b[0;34m\u001b[0m\u001b[0;34m\u001b[0m\u001b[0m\n\u001b[0m",
            "\u001b[0;31mTypeError\u001b[0m: matmul() missing 1 required positional arguments: \"other\""
          ]
        }
      ]
    },
    {
      "cell_type": "code",
      "source": [
        "tensorA.shape, tensorB.shape"
      ],
      "metadata": {
        "colab": {
          "base_uri": "https://localhost:8080/"
        },
        "id": "FILrRgU40iyG",
        "outputId": "9e5c5b80-bfea-4159-dbb7-f330a098c26c"
      },
      "execution_count": null,
      "outputs": [
        {
          "output_type": "execute_result",
          "data": {
            "text/plain": [
              "(torch.Size([3, 2]), torch.Size([3, 2]))"
            ]
          },
          "metadata": {},
          "execution_count": 47
        }
      ]
    },
    {
      "cell_type": "markdown",
      "source": [
        "To fix our tensor shape issues, we can manipulate the shape of one of our tensors using a **transpose**.\n",
        "\n",
        "A transpose switches the axes or dimensions of a given tensor."
      ],
      "metadata": {
        "id": "Iq8UlaCy04mb"
      }
    },
    {
      "cell_type": "code",
      "source": [
        "tensorB.T"
      ],
      "metadata": {
        "colab": {
          "base_uri": "https://localhost:8080/"
        },
        "id": "LEBj4VJQ1CDC",
        "outputId": "fe39cd51-b04b-4279-b489-eebe445b3e23"
      },
      "execution_count": null,
      "outputs": [
        {
          "output_type": "execute_result",
          "data": {
            "text/plain": [
              "tensor([[ 7,  9, 11],\n",
              "        [ 8, 10, 12]])"
            ]
          },
          "metadata": {},
          "execution_count": 48
        }
      ]
    },
    {
      "cell_type": "code",
      "source": [
        "tensorB"
      ],
      "metadata": {
        "colab": {
          "base_uri": "https://localhost:8080/"
        },
        "id": "j-0TLmh21GD0",
        "outputId": "c11418d4-fbaf-48ce-b2f9-40f0a2540bd8"
      },
      "execution_count": null,
      "outputs": [
        {
          "output_type": "execute_result",
          "data": {
            "text/plain": [
              "tensor([[ 7,  8],\n",
              "        [ 9, 10],\n",
              "        [11, 12]])"
            ]
          },
          "metadata": {},
          "execution_count": 49
        }
      ]
    },
    {
      "cell_type": "code",
      "source": [
        "#  the matrix multiplication operation works when tensorB is transposed\n",
        "print(f\"Original shapes: tensorA = {tensorA.shape}, tensorB = {tensorB.shape}\")\n",
        "print(f\"New shapes: tensorA = {tensorA.shape} (same shape as above), tensorB.T = {tensorB.T.shape}\")\n",
        "print(f\"Multiplying: {tensorA.shape} @ {tensorB.T.shape} <- inner dimensions must match\")\n",
        "print(\"Output:\\n\")\n",
        "output = torch.matmul(tensorA, tensorB.T)\n",
        "print(output)\n",
        "print(f\"\\nOutput shape: {output.shape}\")\n",
        "\n",
        "torch.matmul(tensorA, tensorB.T)"
      ],
      "metadata": {
        "colab": {
          "base_uri": "https://localhost:8080/"
        },
        "id": "7fujFn2P1JGM",
        "outputId": "bee917bc-cbd3-4af1-b379-9523d8f5ed6b"
      },
      "execution_count": null,
      "outputs": [
        {
          "output_type": "stream",
          "name": "stdout",
          "text": [
            "Original shapes: tensorA = torch.Size([3, 2]), tensorB = torch.Size([3, 2])\n",
            "New shapes: tensorA = torch.Size([3, 2]) (same shape as above), tensorB.T = torch.Size([2, 3])\n",
            "Multiplying: torch.Size([3, 2]) @ torch.Size([2, 3]) <- inner dimensions must match\n",
            "Output:\n",
            "\n",
            "tensor([[ 23,  29,  35],\n",
            "        [ 53,  67,  81],\n",
            "        [ 83, 105, 127]])\n",
            "\n",
            "Output shape: torch.Size([3, 3])\n"
          ]
        },
        {
          "output_type": "execute_result",
          "data": {
            "text/plain": [
              "tensor([[ 23,  29,  35],\n",
              "        [ 53,  67,  81],\n",
              "        [ 83, 105, 127]])"
            ]
          },
          "metadata": {},
          "execution_count": 50
        }
      ]
    },
    {
      "cell_type": "markdown",
      "source": [
        "## Finding the min, max, mean, sum, etc (tensor aggregation)"
      ],
      "metadata": {
        "id": "qoZ7TVLB2A-P"
      }
    },
    {
      "cell_type": "code",
      "source": [
        "#  create a tensor\n",
        "x = torch.arange(0,100,10)\n",
        "x, x.dtype"
      ],
      "metadata": {
        "colab": {
          "base_uri": "https://localhost:8080/"
        },
        "id": "erapueBE1Pja",
        "outputId": "9d55890f-d0a4-40d5-dd83-37f7e16fe284"
      },
      "execution_count": null,
      "outputs": [
        {
          "output_type": "execute_result",
          "data": {
            "text/plain": [
              "(tensor([ 0, 10, 20, 30, 40, 50, 60, 70, 80, 90]), torch.int64)"
            ]
          },
          "metadata": {},
          "execution_count": 51
        }
      ]
    },
    {
      "cell_type": "code",
      "source": [
        "# find the min\n",
        "torch.min(x), x.min()"
      ],
      "metadata": {
        "colab": {
          "base_uri": "https://localhost:8080/"
        },
        "id": "voOgZ96S14Ia",
        "outputId": "ece64654-78c1-49ae-cbc7-c6704a33294a"
      },
      "execution_count": null,
      "outputs": [
        {
          "output_type": "execute_result",
          "data": {
            "text/plain": [
              "(tensor(0), tensor(0))"
            ]
          },
          "metadata": {},
          "execution_count": 52
        }
      ]
    },
    {
      "cell_type": "code",
      "source": [
        "# find the max\n",
        "torch.max(x), x.max()"
      ],
      "metadata": {
        "colab": {
          "base_uri": "https://localhost:8080/"
        },
        "id": "5lXHUtab2JwN",
        "outputId": "bc01f3be-97f8-4c6e-c841-6ef60a82eb4c"
      },
      "execution_count": null,
      "outputs": [
        {
          "output_type": "execute_result",
          "data": {
            "text/plain": [
              "(tensor(90), tensor(90))"
            ]
          },
          "metadata": {},
          "execution_count": 53
        }
      ]
    },
    {
      "cell_type": "code",
      "source": [
        "# find the mean\n",
        "torch.mean(x.type(torch.float32)), x.type(torch.float32).mean()"
      ],
      "metadata": {
        "colab": {
          "base_uri": "https://localhost:8080/"
        },
        "id": "hOYuE2cP2PGV",
        "outputId": "8f4b07e3-7939-4480-a7ba-3bc015747ee6"
      },
      "execution_count": null,
      "outputs": [
        {
          "output_type": "execute_result",
          "data": {
            "text/plain": [
              "(tensor(45.), tensor(45.))"
            ]
          },
          "metadata": {},
          "execution_count": 54
        }
      ]
    },
    {
      "cell_type": "code",
      "source": [
        "# find the sum\n",
        "torch.sum(x), x.sum()"
      ],
      "metadata": {
        "colab": {
          "base_uri": "https://localhost:8080/"
        },
        "id": "VhIEbhvz2Uap",
        "outputId": "f5d74ba7-e828-4abd-924f-5496593bc57e"
      },
      "execution_count": null,
      "outputs": [
        {
          "output_type": "execute_result",
          "data": {
            "text/plain": [
              "(tensor(450), tensor(450))"
            ]
          },
          "metadata": {},
          "execution_count": 55
        }
      ]
    },
    {
      "cell_type": "markdown",
      "source": [
        "## finding the positional min and max"
      ],
      "metadata": {
        "id": "xThqm7P53E2d"
      }
    },
    {
      "cell_type": "code",
      "source": [
        "x"
      ],
      "metadata": {
        "colab": {
          "base_uri": "https://localhost:8080/"
        },
        "id": "hYRTTFE_3MDL",
        "outputId": "6b841539-a08a-490e-c223-e0ace49f3ae5"
      },
      "execution_count": null,
      "outputs": [
        {
          "output_type": "execute_result",
          "data": {
            "text/plain": [
              "tensor([ 0, 10, 20, 30, 40, 50, 60, 70, 80, 90])"
            ]
          },
          "metadata": {},
          "execution_count": 56
        }
      ]
    },
    {
      "cell_type": "code",
      "source": [
        "# find the position in tensor that has the minimum value with argmin() -> return index postion with minimum value\n",
        "x.argmin()"
      ],
      "metadata": {
        "colab": {
          "base_uri": "https://localhost:8080/"
        },
        "id": "XbZZ73aE2-YF",
        "outputId": "a5adb951-4b45-4d4f-eea1-0e056568e938"
      },
      "execution_count": null,
      "outputs": [
        {
          "output_type": "execute_result",
          "data": {
            "text/plain": [
              "tensor(0)"
            ]
          },
          "metadata": {},
          "execution_count": 57
        }
      ]
    },
    {
      "cell_type": "code",
      "source": [
        "x[0]"
      ],
      "metadata": {
        "colab": {
          "base_uri": "https://localhost:8080/"
        },
        "id": "ljT5IiqV3I8i",
        "outputId": "f9ad38a8-8451-42c9-f1e1-41ed42c41211"
      },
      "execution_count": null,
      "outputs": [
        {
          "output_type": "execute_result",
          "data": {
            "text/plain": [
              "tensor(0)"
            ]
          },
          "metadata": {},
          "execution_count": 58
        }
      ]
    },
    {
      "cell_type": "code",
      "source": [
        "# find the position in tensor that has the minimum value with argmin() -> return index postion with minimum value\n",
        "x.argmax()"
      ],
      "metadata": {
        "colab": {
          "base_uri": "https://localhost:8080/"
        },
        "id": "Z9_oKz0y3ea5",
        "outputId": "c5e3be0c-98bc-4b6a-d69f-86bf9e7312de"
      },
      "execution_count": null,
      "outputs": [
        {
          "output_type": "execute_result",
          "data": {
            "text/plain": [
              "tensor(9)"
            ]
          },
          "metadata": {},
          "execution_count": 59
        }
      ]
    },
    {
      "cell_type": "code",
      "source": [
        "x[9]"
      ],
      "metadata": {
        "colab": {
          "base_uri": "https://localhost:8080/"
        },
        "id": "jwTs8s2I3hFd",
        "outputId": "5d735c87-5bb6-43fa-e987-ba14d85e6e3a"
      },
      "execution_count": null,
      "outputs": [
        {
          "output_type": "execute_result",
          "data": {
            "text/plain": [
              "tensor(90)"
            ]
          },
          "metadata": {},
          "execution_count": 60
        }
      ]
    },
    {
      "cell_type": "markdown",
      "source": [
        "### Reshaping, stacking, squeezing, and unsqueezing tensors\n",
        "\n",
        "* Reshaping - reshapes an input tensor to ad defined shape\n",
        "* View - Return a view of an input tensor of certain shape but keep the same memorya s teh original tensor\n",
        "* stacking - combine multiple tensors on top of each other (vstack) ir side by side (hstack)\n",
        "* squeeze - remove `1` dimension from a tensor\n",
        "* unsqueeze - add a `1` dimension to a target tensor\n",
        "* permute - return a view of the input with dimensions permuted (swapped) in certain way"
      ],
      "metadata": {
        "id": "TzTjai-6MXOu"
      }
    },
    {
      "cell_type": "code",
      "source": [
        "# creating a tensor\n",
        "import torch\n",
        "\n",
        "x = torch.arange(1., 10.)\n",
        "x, x.shape, x.ndim"
      ],
      "metadata": {
        "colab": {
          "base_uri": "https://localhost:8080/"
        },
        "id": "AeWS40Oz3jbI",
        "outputId": "bc2d77e1-82c2-4b4e-ee5a-f9c012ef81cc"
      },
      "execution_count": 14,
      "outputs": [
        {
          "output_type": "execute_result",
          "data": {
            "text/plain": [
              "(tensor([1., 2., 3., 4., 5., 6., 7., 8., 9.]), torch.Size([9]), 1)"
            ]
          },
          "metadata": {},
          "execution_count": 14
        }
      ]
    },
    {
      "cell_type": "code",
      "source": [
        "# add an extra dimension\n",
        "xReshaped = x.reshape(1,9)\n",
        "xReshaped, xReshaped.shape"
      ],
      "metadata": {
        "colab": {
          "base_uri": "https://localhost:8080/"
        },
        "id": "xtVwu631NVcp",
        "outputId": "447dc48d-2749-4e99-fd16-85327eb5ad7c"
      },
      "execution_count": 15,
      "outputs": [
        {
          "output_type": "execute_result",
          "data": {
            "text/plain": [
              "(tensor([[1., 2., 3., 4., 5., 6., 7., 8., 9.]]), torch.Size([1, 9]))"
            ]
          },
          "metadata": {},
          "execution_count": 15
        }
      ]
    },
    {
      "cell_type": "code",
      "source": [
        "# change the view\n",
        "\n",
        "z = x .view(1,9)\n",
        "z, z.shape"
      ],
      "metadata": {
        "colab": {
          "base_uri": "https://localhost:8080/"
        },
        "id": "1heo4U5ZNhGo",
        "outputId": "54011024-6de6-4232-8b5c-80d2fa29ab0d"
      },
      "execution_count": 16,
      "outputs": [
        {
          "output_type": "execute_result",
          "data": {
            "text/plain": [
              "(tensor([[1., 2., 3., 4., 5., 6., 7., 8., 9.]]), torch.Size([1, 9]))"
            ]
          },
          "metadata": {},
          "execution_count": 16
        }
      ]
    },
    {
      "cell_type": "code",
      "source": [
        "# chaning z change x (because a view of a tensor shares the same memory as the original input)\n",
        "z[:,0] = 5\n",
        "z,x"
      ],
      "metadata": {
        "colab": {
          "base_uri": "https://localhost:8080/"
        },
        "id": "KqHyyoI-OTN3",
        "outputId": "689edc67-36db-4226-b0a2-c429bf227d91"
      },
      "execution_count": 17,
      "outputs": [
        {
          "output_type": "execute_result",
          "data": {
            "text/plain": [
              "(tensor([[5., 2., 3., 4., 5., 6., 7., 8., 9.]]),\n",
              " tensor([5., 2., 3., 4., 5., 6., 7., 8., 9.]))"
            ]
          },
          "metadata": {},
          "execution_count": 17
        }
      ]
    },
    {
      "cell_type": "code",
      "source": [
        "# stack tensors on top of each other\n",
        "x_stacked = torch.stack([x,x,x,x], dim = 0)\n",
        "x_stacked"
      ],
      "metadata": {
        "colab": {
          "base_uri": "https://localhost:8080/"
        },
        "id": "PZ9m06mwOjio",
        "outputId": "b3cd77cd-f7d3-48f3-e005-036369bddd89"
      },
      "execution_count": 18,
      "outputs": [
        {
          "output_type": "execute_result",
          "data": {
            "text/plain": [
              "tensor([[5., 2., 3., 4., 5., 6., 7., 8., 9.],\n",
              "        [5., 2., 3., 4., 5., 6., 7., 8., 9.],\n",
              "        [5., 2., 3., 4., 5., 6., 7., 8., 9.],\n",
              "        [5., 2., 3., 4., 5., 6., 7., 8., 9.]])"
            ]
          },
          "metadata": {},
          "execution_count": 18
        }
      ]
    },
    {
      "cell_type": "code",
      "source": [
        "# torch.squeeze() - removes all single dimension from a target tensor\n",
        "\n",
        "print(f'previous tensor : {xReshaped}')\n",
        "print(f\"Previous Shape : {xReshaped.shape}\")\n",
        "\n",
        "# remove extra dimension from xReshaped\n",
        "xSqueezed = xReshaped.squeeze()\n",
        "print(f\"\\nNew tensor : {xSqueezed}\")\n",
        "print(f\"New Shape : {xSqueezed.shape}\")"
      ],
      "metadata": {
        "colab": {
          "base_uri": "https://localhost:8080/"
        },
        "id": "z5ET2bi5PglJ",
        "outputId": "0736fa6d-eea3-497e-fba2-8d86c89a1135"
      },
      "execution_count": 19,
      "outputs": [
        {
          "output_type": "stream",
          "name": "stdout",
          "text": [
            "previous tensor : tensor([[5., 2., 3., 4., 5., 6., 7., 8., 9.]])\n",
            "Previous Shape : torch.Size([1, 9])\n",
            "\n",
            "New tensor : tensor([5., 2., 3., 4., 5., 6., 7., 8., 9.])\n",
            "New Shape : torch.Size([9])\n"
          ]
        }
      ]
    },
    {
      "cell_type": "code",
      "source": [
        "# torch.unsqueeze() - adds a single dimension to a target tensor at a specific dimension\n",
        "\n",
        "print(f\"Previous tensor : {xSqueezed}\")\n",
        "print(f\"Previous Shape : {xSqueezed.shape}\")\n",
        "\n",
        "# add an extra dimension with unsqueeze\n",
        "xUnsqueezed = xSqueezed.unsqueeze(dim = 0)\n",
        "print(f\"\\nNew tensor : {xUnsqueezed}\")\n",
        "print(f\"New Shape : {xUnsqueezed.shape}\")"
      ],
      "metadata": {
        "colab": {
          "base_uri": "https://localhost:8080/"
        },
        "id": "3JUWgasAPD-G",
        "outputId": "b15c3b60-c16b-4947-9719-1fd22c936ffc"
      },
      "execution_count": 20,
      "outputs": [
        {
          "output_type": "stream",
          "name": "stdout",
          "text": [
            "Previous tensor : tensor([5., 2., 3., 4., 5., 6., 7., 8., 9.])\n",
            "Previous Shape : torch.Size([9])\n",
            "\n",
            "New tensor : tensor([[5., 2., 3., 4., 5., 6., 7., 8., 9.]])\n",
            "New Shape : torch.Size([1, 9])\n"
          ]
        }
      ]
    },
    {
      "cell_type": "code",
      "source": [
        "# torch.permute() - rearrange the dimension of a target tensor in a specific order\n",
        "xOriginal = torch.rand(size = (224,224,3)) # height, widht, color channels\n",
        "\n",
        "# permute the original tensor to rearrange the axis or dim order\n",
        "xPermuted = xOriginal.permute(2,0,1) # shift axis 0 -> 1, 1 -> 2, 2 -> 0\n",
        "\n",
        "print(f'Previous shape : {xOriginal.shape}')\n",
        "print(f'New shape : {xPermuted.shape}')"
      ],
      "metadata": {
        "colab": {
          "base_uri": "https://localhost:8080/"
        },
        "id": "8sI4mtW-PeS2",
        "outputId": "f33f755b-d94c-4811-e907-c28b2afef906"
      },
      "execution_count": 21,
      "outputs": [
        {
          "output_type": "stream",
          "name": "stdout",
          "text": [
            "Previous shape : torch.Size([224, 224, 3])\n",
            "New shape : torch.Size([3, 224, 224])\n"
          ]
        }
      ]
    },
    {
      "cell_type": "code",
      "source": [
        "xOriginal"
      ],
      "metadata": {
        "colab": {
          "base_uri": "https://localhost:8080/"
        },
        "id": "50vOMKpxRvUN",
        "outputId": "873b93cd-4a26-4b56-9165-fe17c257fc0f"
      },
      "execution_count": 22,
      "outputs": [
        {
          "output_type": "execute_result",
          "data": {
            "text/plain": [
              "tensor([[[0.4033, 0.5835, 0.8182],\n",
              "         [0.7966, 0.3219, 0.7915],\n",
              "         [0.1263, 0.6246, 0.0403],\n",
              "         ...,\n",
              "         [0.1768, 0.4063, 0.2273],\n",
              "         [0.3169, 0.8906, 0.4214],\n",
              "         [0.9920, 0.9544, 0.5738]],\n",
              "\n",
              "        [[0.0014, 0.6962, 0.4063],\n",
              "         [0.7791, 0.2820, 0.1198],\n",
              "         [0.4089, 0.0506, 0.7917],\n",
              "         ...,\n",
              "         [0.3348, 0.2369, 0.9870],\n",
              "         [0.2031, 0.2079, 0.0723],\n",
              "         [0.9545, 0.9688, 0.0191]],\n",
              "\n",
              "        [[0.1166, 0.5892, 0.3525],\n",
              "         [0.7939, 0.4719, 0.1933],\n",
              "         [0.3493, 0.9101, 0.7196],\n",
              "         ...,\n",
              "         [0.4972, 0.7952, 0.5095],\n",
              "         [0.4404, 0.9173, 0.9229],\n",
              "         [0.0306, 0.1234, 0.1699]],\n",
              "\n",
              "        ...,\n",
              "\n",
              "        [[0.8944, 0.4099, 0.2482],\n",
              "         [0.9486, 0.0224, 0.1941],\n",
              "         [0.7264, 0.2489, 0.0248],\n",
              "         ...,\n",
              "         [0.1163, 0.5125, 0.1194],\n",
              "         [0.6923, 0.1461, 0.7484],\n",
              "         [0.6248, 0.1810, 0.0595]],\n",
              "\n",
              "        [[0.5807, 0.9776, 0.3453],\n",
              "         [0.4521, 0.7522, 0.1798],\n",
              "         [0.4595, 0.0758, 0.6318],\n",
              "         ...,\n",
              "         [0.4570, 0.8490, 0.2949],\n",
              "         [0.4125, 0.3056, 0.9787],\n",
              "         [0.6822, 0.0388, 0.0477]],\n",
              "\n",
              "        [[0.2949, 0.7314, 0.9143],\n",
              "         [0.1872, 0.7303, 0.1987],\n",
              "         [0.3697, 0.7535, 0.3992],\n",
              "         ...,\n",
              "         [0.2883, 0.2868, 0.2858],\n",
              "         [0.5964, 0.4237, 0.4548],\n",
              "         [0.3552, 0.7039, 0.7133]]])"
            ]
          },
          "metadata": {},
          "execution_count": 22
        }
      ]
    },
    {
      "cell_type": "code",
      "source": [
        "xOriginal[0,0,0]"
      ],
      "metadata": {
        "colab": {
          "base_uri": "https://localhost:8080/"
        },
        "id": "_bNGShfKPns_",
        "outputId": "a07e6a54-0b85-48ed-9751-c1bc977445c6"
      },
      "execution_count": 23,
      "outputs": [
        {
          "output_type": "execute_result",
          "data": {
            "text/plain": [
              "tensor(0.4033)"
            ]
          },
          "metadata": {},
          "execution_count": 23
        }
      ]
    },
    {
      "cell_type": "code",
      "source": [
        "xPermuted"
      ],
      "metadata": {
        "colab": {
          "base_uri": "https://localhost:8080/"
        },
        "id": "m3rgddrNPzUG",
        "outputId": "c2ec25a1-f7dc-4b5f-896b-ac7df9a0710a"
      },
      "execution_count": 24,
      "outputs": [
        {
          "output_type": "execute_result",
          "data": {
            "text/plain": [
              "tensor([[[0.4033, 0.7966, 0.1263,  ..., 0.1768, 0.3169, 0.9920],\n",
              "         [0.0014, 0.7791, 0.4089,  ..., 0.3348, 0.2031, 0.9545],\n",
              "         [0.1166, 0.7939, 0.3493,  ..., 0.4972, 0.4404, 0.0306],\n",
              "         ...,\n",
              "         [0.8944, 0.9486, 0.7264,  ..., 0.1163, 0.6923, 0.6248],\n",
              "         [0.5807, 0.4521, 0.4595,  ..., 0.4570, 0.4125, 0.6822],\n",
              "         [0.2949, 0.1872, 0.3697,  ..., 0.2883, 0.5964, 0.3552]],\n",
              "\n",
              "        [[0.5835, 0.3219, 0.6246,  ..., 0.4063, 0.8906, 0.9544],\n",
              "         [0.6962, 0.2820, 0.0506,  ..., 0.2369, 0.2079, 0.9688],\n",
              "         [0.5892, 0.4719, 0.9101,  ..., 0.7952, 0.9173, 0.1234],\n",
              "         ...,\n",
              "         [0.4099, 0.0224, 0.2489,  ..., 0.5125, 0.1461, 0.1810],\n",
              "         [0.9776, 0.7522, 0.0758,  ..., 0.8490, 0.3056, 0.0388],\n",
              "         [0.7314, 0.7303, 0.7535,  ..., 0.2868, 0.4237, 0.7039]],\n",
              "\n",
              "        [[0.8182, 0.7915, 0.0403,  ..., 0.2273, 0.4214, 0.5738],\n",
              "         [0.4063, 0.1198, 0.7917,  ..., 0.9870, 0.0723, 0.0191],\n",
              "         [0.3525, 0.1933, 0.7196,  ..., 0.5095, 0.9229, 0.1699],\n",
              "         ...,\n",
              "         [0.2482, 0.1941, 0.0248,  ..., 0.1194, 0.7484, 0.0595],\n",
              "         [0.3453, 0.1798, 0.6318,  ..., 0.2949, 0.9787, 0.0477],\n",
              "         [0.9143, 0.1987, 0.3992,  ..., 0.2858, 0.4548, 0.7133]]])"
            ]
          },
          "metadata": {},
          "execution_count": 24
        }
      ]
    },
    {
      "cell_type": "code",
      "source": [
        "xOriginal[0,0,0] = 9999\n",
        "xOriginal[0,0,0], xPermuted[0,0,0]"
      ],
      "metadata": {
        "colab": {
          "base_uri": "https://localhost:8080/"
        },
        "id": "NKr_yalXRf5O",
        "outputId": "526ba0a4-26f7-47c9-8ad6-f06212a5f435"
      },
      "execution_count": 25,
      "outputs": [
        {
          "output_type": "execute_result",
          "data": {
            "text/plain": [
              "(tensor(9999.), tensor(9999.))"
            ]
          },
          "metadata": {},
          "execution_count": 25
        }
      ]
    },
    {
      "cell_type": "markdown",
      "source": [
        "## Indexin (selecting data from tensor)\n",
        "\n",
        "indexing with pytorch is similar to indexing with numpy"
      ],
      "metadata": {
        "id": "bunSG3imuuq4"
      }
    },
    {
      "cell_type": "code",
      "source": [
        "# create a tensor\n",
        "import torch\n",
        "x = torch.arange(1,10).reshape(1,3,3)\n",
        "x, x.shape"
      ],
      "metadata": {
        "id": "xW0OXlGEuGZO",
        "colab": {
          "base_uri": "https://localhost:8080/"
        },
        "outputId": "a36080a7-5962-453d-b90b-26476d68b9cd"
      },
      "execution_count": 28,
      "outputs": [
        {
          "output_type": "execute_result",
          "data": {
            "text/plain": [
              "(tensor([[[1, 2, 3],\n",
              "          [4, 5, 6],\n",
              "          [7, 8, 9]]]),\n",
              " torch.Size([1, 3, 3]))"
            ]
          },
          "metadata": {},
          "execution_count": 28
        }
      ]
    },
    {
      "cell_type": "code",
      "source": [
        "# lets index on our new tensor\n",
        "\n",
        "x[0]"
      ],
      "metadata": {
        "colab": {
          "base_uri": "https://localhost:8080/"
        },
        "id": "EuYwtVz3u9bg",
        "outputId": "d67fac02-a797-41c9-94b8-0f0cb438a98c"
      },
      "execution_count": 29,
      "outputs": [
        {
          "output_type": "execute_result",
          "data": {
            "text/plain": [
              "tensor([[1, 2, 3],\n",
              "        [4, 5, 6],\n",
              "        [7, 8, 9]])"
            ]
          },
          "metadata": {},
          "execution_count": 29
        }
      ]
    },
    {
      "cell_type": "code",
      "source": [
        "# lets index on the middle bracket (dim = 1)\n",
        "\n",
        "x[0][1]"
      ],
      "metadata": {
        "colab": {
          "base_uri": "https://localhost:8080/"
        },
        "id": "qDlfSpxTvIZF",
        "outputId": "54fc07c7-cb95-4ca1-8f9a-167ae5bac4d5"
      },
      "execution_count": 33,
      "outputs": [
        {
          "output_type": "execute_result",
          "data": {
            "text/plain": [
              "tensor([4, 5, 6])"
            ]
          },
          "metadata": {},
          "execution_count": 33
        }
      ]
    },
    {
      "cell_type": "code",
      "source": [
        "# lets index on the most inner bracket\n",
        "\n",
        "x[0][2][2]"
      ],
      "metadata": {
        "colab": {
          "base_uri": "https://localhost:8080/"
        },
        "id": "GVa3WG_7vPmN",
        "outputId": "f00c69bc-9395-4bed-95b0-7ef6fec2d08d"
      },
      "execution_count": 35,
      "outputs": [
        {
          "output_type": "execute_result",
          "data": {
            "text/plain": [
              "tensor(9)"
            ]
          },
          "metadata": {},
          "execution_count": 35
        }
      ]
    },
    {
      "cell_type": "code",
      "source": [
        "#  you can also use : to select all of a target dimension\n",
        "\n",
        "x[0,:]"
      ],
      "metadata": {
        "colab": {
          "base_uri": "https://localhost:8080/"
        },
        "id": "6yG2CpidvZii",
        "outputId": "f58e4cf9-19bf-4365-8547-b0f6d107db00"
      },
      "execution_count": 36,
      "outputs": [
        {
          "output_type": "execute_result",
          "data": {
            "text/plain": [
              "tensor([[1, 2, 3],\n",
              "        [4, 5, 6],\n",
              "        [7, 8, 9]])"
            ]
          },
          "metadata": {},
          "execution_count": 36
        }
      ]
    },
    {
      "cell_type": "code",
      "source": [
        "# get all values of 0 and 1 dimension but only index 1 of 2nd dimension\n",
        "x[:,:,1]"
      ],
      "metadata": {
        "colab": {
          "base_uri": "https://localhost:8080/"
        },
        "id": "KSubFaq1vspx",
        "outputId": "e1c724c1-1d86-4310-9ff3-0b20551f3845"
      },
      "execution_count": 41,
      "outputs": [
        {
          "output_type": "execute_result",
          "data": {
            "text/plain": [
              "tensor([[2, 5, 8]])"
            ]
          },
          "metadata": {},
          "execution_count": 41
        }
      ]
    },
    {
      "cell_type": "code",
      "source": [
        "# get all values of the 0 dimension but only take the 1 index value of 1st and 2nd dimension\n",
        "x[:,1,1]"
      ],
      "metadata": {
        "colab": {
          "base_uri": "https://localhost:8080/"
        },
        "id": "WKRXuSImv4mS",
        "outputId": "3d444120-5102-420a-85ac-a1fa51e6450e"
      },
      "execution_count": 42,
      "outputs": [
        {
          "output_type": "execute_result",
          "data": {
            "text/plain": [
              "tensor([5])"
            ]
          },
          "metadata": {},
          "execution_count": 42
        }
      ]
    },
    {
      "cell_type": "code",
      "source": [
        "# get index 0 of 0 and 1 dimension and all values of 2nd dimension\n",
        "x[0,0,:]"
      ],
      "metadata": {
        "colab": {
          "base_uri": "https://localhost:8080/"
        },
        "id": "LkXlkZb5wS1G",
        "outputId": "92437cea-b299-4e5b-d20b-64bd52204c8d"
      },
      "execution_count": 43,
      "outputs": [
        {
          "output_type": "execute_result",
          "data": {
            "text/plain": [
              "tensor([1, 2, 3])"
            ]
          },
          "metadata": {},
          "execution_count": 43
        }
      ]
    },
    {
      "cell_type": "code",
      "source": [
        "# index x to return 9\n",
        "print(x[0,2,2])\n",
        "\n",
        "# index on x to return 3,6,9\n",
        "print(x[:,:,2])"
      ],
      "metadata": {
        "colab": {
          "base_uri": "https://localhost:8080/"
        },
        "id": "fR6TUNruwgan",
        "outputId": "e939df3b-6468-4fdb-9316-3fa969dbb277"
      },
      "execution_count": 45,
      "outputs": [
        {
          "output_type": "stream",
          "name": "stdout",
          "text": [
            "tensor(9)\n",
            "tensor([[3, 6, 9]])\n"
          ]
        }
      ]
    },
    {
      "cell_type": "markdown",
      "source": [
        "## pytorch tensor and numpy\n",
        "\n",
        "numpy is a popular scientific python numerical computing libraryy\n",
        "\n",
        "and because of this , pytorch has functionalitu to interact with it\n",
        "\n",
        "* data in numpt, want in pytorch tensor -> `torch.from_numpy(ndarray)`\n",
        "* pytorch -> numpy -> `torch.Tensor.numpy()`"
      ],
      "metadata": {
        "id": "JBe18FHQw2ON"
      }
    },
    {
      "cell_type": "code",
      "source": [
        "# numpy array to tensor\n",
        "\n",
        "import torch\n",
        "import numpy as np\n",
        "\n",
        "array = np.arange(1.0,8.0)\n",
        "tensor = torch.from_numpy(array) # WARNING : when converting from numpy -> pytorch, pytorch reflect numpy default datatype\n",
        "array, tensor"
      ],
      "metadata": {
        "colab": {
          "base_uri": "https://localhost:8080/"
        },
        "id": "Xmnahe_PwnJN",
        "outputId": "4418a545-1bdd-418a-d608-ded76e4ff34c"
      },
      "execution_count": 53,
      "outputs": [
        {
          "output_type": "execute_result",
          "data": {
            "text/plain": [
              "(array([1., 2., 3., 4., 5., 6., 7.]),\n",
              " tensor([1., 2., 3., 4., 5., 6., 7.], dtype=torch.float64))"
            ]
          },
          "metadata": {},
          "execution_count": 53
        }
      ]
    },
    {
      "cell_type": "code",
      "source": [
        "array.dtype,tensor.dtype"
      ],
      "metadata": {
        "colab": {
          "base_uri": "https://localhost:8080/"
        },
        "id": "l8g5hRmexeqt",
        "outputId": "aec685f9-f4b5-4abf-f2f0-4f6dcc3d3db0"
      },
      "execution_count": 50,
      "outputs": [
        {
          "output_type": "execute_result",
          "data": {
            "text/plain": [
              "(dtype('float64'), torch.float64)"
            ]
          },
          "metadata": {},
          "execution_count": 50
        }
      ]
    },
    {
      "cell_type": "code",
      "source": [
        "torch.arange(1.0,8.0).dtype"
      ],
      "metadata": {
        "colab": {
          "base_uri": "https://localhost:8080/"
        },
        "id": "9il-oor2xnRR",
        "outputId": "73e3aa58-3045-4d15-a81d-9cf6834fee45"
      },
      "execution_count": 52,
      "outputs": [
        {
          "output_type": "execute_result",
          "data": {
            "text/plain": [
              "torch.float32"
            ]
          },
          "metadata": {},
          "execution_count": 52
        }
      ]
    },
    {
      "cell_type": "code",
      "source": [
        "# change the value of array , what will this do to tenosr\n",
        "array = array + 1\n",
        "array, tensor"
      ],
      "metadata": {
        "colab": {
          "base_uri": "https://localhost:8080/"
        },
        "id": "bLZE-L3zxv2x",
        "outputId": "bde81803-1d38-44cc-a7cf-b9691bc311eb"
      },
      "execution_count": 54,
      "outputs": [
        {
          "output_type": "execute_result",
          "data": {
            "text/plain": [
              "(array([2., 3., 4., 5., 6., 7., 8.]),\n",
              " tensor([1., 2., 3., 4., 5., 6., 7.], dtype=torch.float64))"
            ]
          },
          "metadata": {},
          "execution_count": 54
        }
      ]
    },
    {
      "cell_type": "code",
      "source": [
        "# tensor to numpy\n",
        "tensor = torch.ones(8)\n",
        "numpy_tensor = tensor.numpy()\n",
        "tensor, numpy_tensor"
      ],
      "metadata": {
        "colab": {
          "base_uri": "https://localhost:8080/"
        },
        "id": "gqBReSk6ySs1",
        "outputId": "6eb121e1-153a-48bd-ffca-fc565561bfed"
      },
      "execution_count": 55,
      "outputs": [
        {
          "output_type": "execute_result",
          "data": {
            "text/plain": [
              "(tensor([1., 1., 1., 1., 1., 1., 1., 1.]),\n",
              " array([1., 1., 1., 1., 1., 1., 1., 1.], dtype=float32))"
            ]
          },
          "metadata": {},
          "execution_count": 55
        }
      ]
    },
    {
      "cell_type": "code",
      "source": [
        "numpy_tensor.dtype"
      ],
      "metadata": {
        "colab": {
          "base_uri": "https://localhost:8080/"
        },
        "id": "KrwfQHW8yfSr",
        "outputId": "1f577ca6-9b5d-4b8c-8d41-26091851dbd7"
      },
      "execution_count": 56,
      "outputs": [
        {
          "output_type": "execute_result",
          "data": {
            "text/plain": [
              "dtype('float32')"
            ]
          },
          "metadata": {},
          "execution_count": 56
        }
      ]
    },
    {
      "cell_type": "code",
      "source": [
        "# change the tensor, what happen to numpy\n",
        "\n",
        "tensor = tensor + 1\n",
        "tensor, numpy_tensor"
      ],
      "metadata": {
        "colab": {
          "base_uri": "https://localhost:8080/"
        },
        "id": "bRBWzfhsykSH",
        "outputId": "8dfe3f23-c43d-422d-b493-976b8814992c"
      },
      "execution_count": 57,
      "outputs": [
        {
          "output_type": "execute_result",
          "data": {
            "text/plain": [
              "(tensor([2., 2., 2., 2., 2., 2., 2., 2.]),\n",
              " array([1., 1., 1., 1., 1., 1., 1., 1.], dtype=float32))"
            ]
          },
          "metadata": {},
          "execution_count": 57
        }
      ]
    },
    {
      "cell_type": "markdown",
      "source": [
        "## Reproducbility (trying to take random out of random)\n",
        "\n",
        "in short how a neural network learns:\n",
        "\n",
        "start with random numbers -> tensor operations -> update random numbers to try and make them better representation of the data -> again -> again ...\n",
        "\n",
        "To reduce the randomness in NN and pytorch comes the concept of a **random seed**\n",
        "\n",
        "Essentially what the random seed does is \"flavour\" the randomness"
      ],
      "metadata": {
        "id": "0UPcg4Fly133"
      }
    },
    {
      "cell_type": "code",
      "source": [
        "import torch\n",
        "\n",
        "# create a two random tensors\n",
        "random_tensor_A = torch.rand(3,4)\n",
        "random_tensor_B = torch.rand(3,4)\n",
        "\n",
        "print(random_tensor_A)\n",
        "print(random_tensor_B)\n",
        "print(random_tensor_A == random_tensor_B)"
      ],
      "metadata": {
        "colab": {
          "base_uri": "https://localhost:8080/"
        },
        "id": "ycf1uxpMyv3k",
        "outputId": "411bf818-01c0-4c91-a68e-b8419b0f714f"
      },
      "execution_count": 61,
      "outputs": [
        {
          "output_type": "stream",
          "name": "stdout",
          "text": [
            "tensor([[0.5209, 0.3779, 0.1501, 0.0790],\n",
            "        [0.5222, 0.0529, 0.8162, 0.1640],\n",
            "        [0.7001, 0.0785, 0.4074, 0.5536]])\n",
            "tensor([[0.3825, 0.4635, 0.4115, 0.6353],\n",
            "        [0.9600, 0.4137, 0.8730, 0.1950],\n",
            "        [0.1682, 0.6703, 0.1276, 0.7739]])\n",
            "tensor([[False, False, False, False],\n",
            "        [False, False, False, False],\n",
            "        [False, False, False, False]])\n"
          ]
        }
      ]
    },
    {
      "cell_type": "code",
      "source": [
        "# lets makse some random but reproducible tensors\n",
        "\n",
        "import torch\n",
        "\n",
        "# set random seed\n",
        "randomSeed = 42\n",
        "torch.manual_seed(randomSeed)\n",
        "\n",
        "random_tensor_C = torch.rand(3,4)\n",
        "\n",
        "torch.manual_seed(randomSeed)\n",
        "random_tensor_D = torch.rand(3,4)\n",
        "\n",
        "print(random_tensor_C)\n",
        "print(random_tensor_D)\n",
        "print(random_tensor_C == random_tensor_D)\n"
      ],
      "metadata": {
        "colab": {
          "base_uri": "https://localhost:8080/"
        },
        "id": "ZjNBXlsEzWol",
        "outputId": "44721257-b499-466d-d134-1b56f484591b"
      },
      "execution_count": 64,
      "outputs": [
        {
          "output_type": "stream",
          "name": "stdout",
          "text": [
            "tensor([[0.8823, 0.9150, 0.3829, 0.9593],\n",
            "        [0.3904, 0.6009, 0.2566, 0.7936],\n",
            "        [0.9408, 0.1332, 0.9346, 0.5936]])\n",
            "tensor([[0.8823, 0.9150, 0.3829, 0.9593],\n",
            "        [0.3904, 0.6009, 0.2566, 0.7936],\n",
            "        [0.9408, 0.1332, 0.9346, 0.5936]])\n",
            "tensor([[True, True, True, True],\n",
            "        [True, True, True, True],\n",
            "        [True, True, True, True]])\n"
          ]
        }
      ]
    },
    {
      "cell_type": "markdown",
      "source": [
        "## Running tensors and pytorch object on the GPU (make faster)"
      ],
      "metadata": {
        "id": "xo0E5g8S1WDU"
      }
    },
    {
      "cell_type": "code",
      "source": [
        "# 1. getting a GPU\n"
      ],
      "metadata": {
        "id": "eQbt8aMt0RFt"
      },
      "execution_count": null,
      "outputs": []
    },
    {
      "cell_type": "code",
      "source": [
        "!Nvidia-smi"
      ],
      "metadata": {
        "colab": {
          "base_uri": "https://localhost:8080/"
        },
        "id": "nPWlbmJM1y4n",
        "outputId": "4b629725-d5e4-46b2-923c-3c7a1845628b"
      },
      "execution_count": 65,
      "outputs": [
        {
          "output_type": "stream",
          "name": "stdout",
          "text": [
            "/bin/bash: line 1: Nvidia-smi: command not found\n"
          ]
        }
      ]
    },
    {
      "cell_type": "code",
      "source": [
        "# check for GPU accees with pytorch\n",
        "import torch\n",
        "torch.cuda.is_available()"
      ],
      "metadata": {
        "colab": {
          "base_uri": "https://localhost:8080/"
        },
        "id": "hX7m2bdw10oM",
        "outputId": "e5ade9f0-bfe8-4da4-d41c-cea0f668393e"
      },
      "execution_count": 66,
      "outputs": [
        {
          "output_type": "execute_result",
          "data": {
            "text/plain": [
              "False"
            ]
          },
          "metadata": {},
          "execution_count": 66
        }
      ]
    },
    {
      "cell_type": "code",
      "source": [
        "# setup device agnostic code\n",
        "device = \"cuda\" if torch.cuda.is_available() else \"cpu\"\n",
        "device"
      ],
      "metadata": {
        "colab": {
          "base_uri": "https://localhost:8080/",
          "height": 36
        },
        "id": "ZfVU7VSB2AJp",
        "outputId": "81905986-43ca-4d8c-d430-b89a81421f36"
      },
      "execution_count": 67,
      "outputs": [
        {
          "output_type": "execute_result",
          "data": {
            "text/plain": [
              "'cpu'"
            ],
            "application/vnd.google.colaboratory.intrinsic+json": {
              "type": "string"
            }
          },
          "metadata": {},
          "execution_count": 67
        }
      ]
    },
    {
      "cell_type": "code",
      "source": [
        "# count number of device\n",
        "torch.cuda.device_count()"
      ],
      "metadata": {
        "colab": {
          "base_uri": "https://localhost:8080/"
        },
        "id": "dEcFvuo42Hf2",
        "outputId": "837a654a-7bcc-494c-ba84-64ab272fb642"
      },
      "execution_count": 68,
      "outputs": [
        {
          "output_type": "execute_result",
          "data": {
            "text/plain": [
              "0"
            ]
          },
          "metadata": {},
          "execution_count": 68
        }
      ]
    },
    {
      "cell_type": "markdown",
      "source": [
        "## putting tensord and models on the gpu"
      ],
      "metadata": {
        "id": "EbnFeJ5H2WKz"
      }
    },
    {
      "cell_type": "code",
      "source": [
        "# create a tensor (default on the CPU)\n",
        "tensor = torch.tensor([1,2,3])\n",
        "\n",
        "# tenosr not on gpu\n",
        "print(tensor, tensor.device)"
      ],
      "metadata": {
        "colab": {
          "base_uri": "https://localhost:8080/"
        },
        "id": "zMdFY_cx2NSJ",
        "outputId": "aee1280c-69e6-4e2c-a647-4463c32846b8"
      },
      "execution_count": 71,
      "outputs": [
        {
          "output_type": "stream",
          "name": "stdout",
          "text": [
            "tensor([1, 2, 3]) cpu\n"
          ]
        }
      ]
    },
    {
      "cell_type": "code",
      "source": [
        "tensor_on_gpu = tensor = tensor.to(device)\n",
        "tensor_on_gpu"
      ],
      "metadata": {
        "colab": {
          "base_uri": "https://localhost:8080/"
        },
        "id": "VdrVlMRF2nkm",
        "outputId": "ff0c951e-6eba-49e5-fd29-b60a31f6ea51"
      },
      "execution_count": 72,
      "outputs": [
        {
          "output_type": "execute_result",
          "data": {
            "text/plain": [
              "tensor([1, 2, 3])"
            ]
          },
          "metadata": {},
          "execution_count": 72
        }
      ]
    },
    {
      "cell_type": "markdown",
      "source": [
        "## 4. Moving tensor back to CPU"
      ],
      "metadata": {
        "id": "8fFELK-o24De"
      }
    },
    {
      "cell_type": "code",
      "source": [
        "# if tensor in GPU, cant transform to numpy\n",
        "tensor_on_gpu.numpy()"
      ],
      "metadata": {
        "colab": {
          "base_uri": "https://localhost:8080/"
        },
        "id": "zuDswSGe2uHm",
        "outputId": "3a8485f6-d49c-4ab3-b3b0-169a03316e16"
      },
      "execution_count": 73,
      "outputs": [
        {
          "output_type": "execute_result",
          "data": {
            "text/plain": [
              "array([1, 2, 3])"
            ]
          },
          "metadata": {},
          "execution_count": 73
        }
      ]
    },
    {
      "cell_type": "code",
      "source": [
        "# tofix the gpu tensor with numpy issue, we can first set in on the cpu\n",
        "\n",
        "tensor_back_on_cpu = tensor_on_gpu.cpu().numpy()\n",
        "tensor_back_on_cpu"
      ],
      "metadata": {
        "colab": {
          "base_uri": "https://localhost:8080/"
        },
        "id": "mTPBBv9O3BAC",
        "outputId": "3865caba-a4ca-4c37-f32a-d5f63150f377"
      },
      "execution_count": 74,
      "outputs": [
        {
          "output_type": "execute_result",
          "data": {
            "text/plain": [
              "array([1, 2, 3])"
            ]
          },
          "metadata": {},
          "execution_count": 74
        }
      ]
    },
    {
      "cell_type": "code",
      "source": [
        "## Exercise"
      ],
      "metadata": {
        "id": "8-BiK8_i3IaI"
      },
      "execution_count": null,
      "outputs": []
    }
  ]
}